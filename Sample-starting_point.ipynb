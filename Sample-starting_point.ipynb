{
 "cells": [
  {
   "cell_type": "code",
   "execution_count": 8,
   "id": "678b70bf",
   "metadata": {},
   "outputs": [
    {
     "name": "stderr",
     "output_type": "stream",
     "text": [
      "WARNING: Retrying (Retry(total=4, connect=None, read=None, redirect=None, status=None)) after connection broken by 'NewConnectionError('<pip._vendor.urllib3.connection.HTTPSConnection object at 0x00000206534BCC70>: Failed to establish a new connection: [Errno 11001] getaddrinfo failed')': /simple/chardet/\n",
      "WARNING: Retrying (Retry(total=3, connect=None, read=None, redirect=None, status=None)) after connection broken by 'NewConnectionError('<pip._vendor.urllib3.connection.HTTPSConnection object at 0x00000206534BCFA0>: Failed to establish a new connection: [Errno 11001] getaddrinfo failed')': /simple/chardet/\n",
      "WARNING: Retrying (Retry(total=2, connect=None, read=None, redirect=None, status=None)) after connection broken by 'NewConnectionError('<pip._vendor.urllib3.connection.HTTPSConnection object at 0x00000206534BD2D0>: Failed to establish a new connection: [Errno 11001] getaddrinfo failed')': /simple/chardet/\n",
      "WARNING: Retrying (Retry(total=1, connect=None, read=None, redirect=None, status=None)) after connection broken by 'NewConnectionError('<pip._vendor.urllib3.connection.HTTPSConnection object at 0x00000206534BD480>: Failed to establish a new connection: [Errno 11001] getaddrinfo failed')': /simple/chardet/\n",
      "WARNING: Retrying (Retry(total=0, connect=None, read=None, redirect=None, status=None)) after connection broken by 'NewConnectionError('<pip._vendor.urllib3.connection.HTTPSConnection object at 0x00000206534BD630>: Failed to establish a new connection: [Errno 11001] getaddrinfo failed')': /simple/chardet/\n",
      "ERROR: Could not find a version that satisfies the requirement chardet (from versions: none)\n",
      "ERROR: No matching distribution found for chardet\n",
      "WARNING: There was an error checking the latest version of pip.\n"
     ]
    }
   ],
   "source": [
    "!pip install chardet"
   ]
  },
  {
   "cell_type": "code",
   "execution_count": 5,
   "id": "e2e2b291",
   "metadata": {},
   "outputs": [
    {
     "ename": "ModuleNotFoundError",
     "evalue": "No module named 'chardet'",
     "output_type": "error",
     "traceback": [
      "\u001b[1;31m---------------------------------------------------------------------------\u001b[0m",
      "\u001b[1;31mModuleNotFoundError\u001b[0m                       Traceback (most recent call last)",
      "Input \u001b[1;32mIn [5]\u001b[0m, in \u001b[0;36m<cell line: 4>\u001b[1;34m()\u001b[0m\n\u001b[0;32m      2\u001b[0m \u001b[38;5;28;01mimport\u001b[39;00m \u001b[38;5;21;01mpandas\u001b[39;00m \u001b[38;5;28;01mas\u001b[39;00m \u001b[38;5;21;01mpd\u001b[39;00m\n\u001b[0;32m      3\u001b[0m \u001b[38;5;28;01mimport\u001b[39;00m \u001b[38;5;21;01mmatplotlib\u001b[39;00m\u001b[38;5;21;01m.\u001b[39;00m\u001b[38;5;21;01mpyplot\u001b[39;00m \u001b[38;5;28;01mas\u001b[39;00m \u001b[38;5;21;01mplt\u001b[39;00m\n\u001b[1;32m----> 4\u001b[0m \u001b[38;5;28;01mimport\u001b[39;00m \u001b[38;5;21;01mchardet\u001b[39;00m\n",
      "\u001b[1;31mModuleNotFoundError\u001b[0m: No module named 'chardet'"
     ]
    }
   ],
   "source": [
    "import numpy as np\n",
    "import pandas as pd\n",
    "import matplotlib.pyplot as plt\n",
    "import chardet"
   ]
  },
  {
   "cell_type": "code",
   "execution_count": null,
   "id": "72041d47",
   "metadata": {},
   "outputs": [],
   "source": []
  },
  {
   "cell_type": "code",
   "execution_count": 4,
   "id": "e303bb82",
   "metadata": {},
   "outputs": [
    {
     "ename": "FileNotFoundError",
     "evalue": "[Errno 2] No such file or directory: '2018-QS-World-University-Rankings.csv'",
     "output_type": "error",
     "traceback": [
      "\u001b[1;31m---------------------------------------------------------------------------\u001b[0m",
      "\u001b[1;31mFileNotFoundError\u001b[0m                         Traceback (most recent call last)",
      "Input \u001b[1;32mIn [4]\u001b[0m, in \u001b[0;36m<cell line: 1>\u001b[1;34m()\u001b[0m\n\u001b[1;32m----> 1\u001b[0m \u001b[38;5;28;01mwith\u001b[39;00m \u001b[38;5;28;43mopen\u001b[39;49m\u001b[43m(\u001b[49m\u001b[38;5;124;43m\"\u001b[39;49m\u001b[38;5;124;43m2018-QS-World-University-Rankings.csv\u001b[39;49m\u001b[38;5;124;43m\"\u001b[39;49m\u001b[43m,\u001b[49m\u001b[43m \u001b[49m\u001b[38;5;124;43m'\u001b[39;49m\u001b[38;5;124;43mrb\u001b[39;49m\u001b[38;5;124;43m'\u001b[39;49m\u001b[43m)\u001b[49m \u001b[38;5;28;01mas\u001b[39;00m f:\n\u001b[0;32m      2\u001b[0m     res \u001b[38;5;241m=\u001b[39m chardet\u001b[38;5;241m.\u001b[39mdetect(f\u001b[38;5;241m.\u001b[39mread(\u001b[38;5;241m100000\u001b[39m))\n\u001b[0;32m      3\u001b[0m res\n",
      "\u001b[1;31mFileNotFoundError\u001b[0m: [Errno 2] No such file or directory: '2018-QS-World-University-Rankings.csv'"
     ]
    }
   ],
   "source": [
    "with open(\"2018-QS-World-University-Rankings.csv\", 'rb') as f:\n",
    "    res = chardet.detect(f.read(100000))\n",
    "res"
   ]
  },
  {
   "cell_type": "code",
   "execution_count": null,
   "id": "af159695",
   "metadata": {},
   "outputs": [],
   "source": []
  },
  {
   "cell_type": "code",
   "execution_count": null,
   "id": "3685446d",
   "metadata": {},
   "outputs": [],
   "source": [
    "df_2018 = pd.read_csv(\"2018-QS-World-University-Rankings.csv\", encoding = 'unicode_escape', header = [0,1])\n",
    "df_2019 = pd.read_csv(\"2019-QS-World-University-Rankings.csv\", encoding = 'unicode_escape', header = [0,1])\n",
    "df_2020 = pd.read_csv(\"2020-QS-World-University-Rankings.csv\", encoding = 'unicode_escape', header = [0,1])"
   ]
  },
  {
   "cell_type": "code",
   "execution_count": null,
   "id": "ee35f239",
   "metadata": {},
   "outputs": [],
   "source": [
    "df_2018.head()"
   ]
  },
  {
   "cell_type": "code",
   "execution_count": null,
   "id": "eb14f25c",
   "metadata": {},
   "outputs": [],
   "source": [
    "df_2019.head()"
   ]
  },
  {
   "cell_type": "code",
   "execution_count": null,
   "id": "067d8b9f",
   "metadata": {},
   "outputs": [],
   "source": [
    "df_2020.head()"
   ]
  },
  {
   "cell_type": "markdown",
   "id": "fe74b197",
   "metadata": {},
   "source": [
    "# Aligning the column"
   ]
  },
  {
   "cell_type": "code",
   "execution_count": null,
   "id": "273613b1",
   "metadata": {},
   "outputs": [],
   "source": [
    "for d in [df_2018, df_2019, df_2020]:\n",
    "    cols = []\n",
    "    for column in d:\n",
    "        if column[0].startswith('Unnamed'):\n",
    "            cols.append(column[1])\n",
    "        elif column[1].startswith('Unnamed'):\n",
    "            cols.append(column[0])\n",
    "        else:\n",
    "            cols.append(column[0]+'_'+column[1])\n",
    "    d.columns = cols"
   ]
  },
  {
   "cell_type": "code",
   "execution_count": null,
   "id": "ce303f0e",
   "metadata": {},
   "outputs": [],
   "source": [
    "df_2018.head()"
   ]
  },
  {
   "cell_type": "code",
   "execution_count": null,
   "id": "66e5eb6c",
   "metadata": {},
   "outputs": [],
   "source": [
    "df_2019.head()"
   ]
  },
  {
   "cell_type": "code",
   "execution_count": null,
   "id": "44553487",
   "metadata": {},
   "outputs": [],
   "source": [
    "df_2020.head()"
   ]
  },
  {
   "cell_type": "code",
   "execution_count": null,
   "id": "800659f9",
   "metadata": {},
   "outputs": [],
   "source": [
    "df_2020.isna().sum()"
   ]
  },
  {
   "cell_type": "markdown",
   "id": "a8052829",
   "metadata": {},
   "source": [
    "# Dropping Rank columns"
   ]
  },
  {
   "cell_type": "code",
   "execution_count": null,
   "id": "3787a0d0",
   "metadata": {},
   "outputs": [],
   "source": [
    "df_2020 = df_2020.drop(['RANK'], axis = 1)"
   ]
  },
  {
   "cell_type": "code",
   "execution_count": null,
   "id": "507ad6bd",
   "metadata": {},
   "outputs": [],
   "source": [
    "df_2018 = df_2018.drop(['RANK'], axis = 1)"
   ]
  },
  {
   "cell_type": "code",
   "execution_count": null,
   "id": "77da840e",
   "metadata": {},
   "outputs": [],
   "source": [
    "df_2019 = df_2019.drop(['RANK'], axis = 1)"
   ]
  },
  {
   "cell_type": "markdown",
   "id": "b45fa06c",
   "metadata": {},
   "source": [
    "# Cleaning"
   ]
  },
  {
   "cell_type": "code",
   "execution_count": null,
   "id": "7a3a0849",
   "metadata": {},
   "outputs": [],
   "source": [
    "cleaned = df_2020.copy()"
   ]
  },
  {
   "cell_type": "code",
   "execution_count": null,
   "id": "631b1fc4",
   "metadata": {},
   "outputs": [],
   "source": [
    "cleaned = cleaned[~cleaned['Rank in 2020'].isna()] # remove the institutions without rank in 2020"
   ]
  },
  {
   "cell_type": "code",
   "execution_count": null,
   "id": "709b06f1",
   "metadata": {},
   "outputs": [],
   "source": [
    "cleaned = cleaned[~cleaned['Rank in 2019'].isna()] # remove the institutions without rank in 2020"
   ]
  },
  {
   "cell_type": "code",
   "execution_count": null,
   "id": "f04f708a",
   "metadata": {},
   "outputs": [],
   "source": [
    "cleaned.isna().sum()"
   ]
  },
  {
   "cell_type": "code",
   "execution_count": null,
   "id": "0af6581c",
   "metadata": {},
   "outputs": [],
   "source": [
    "cleaned.isna().sum()"
   ]
  },
  {
   "cell_type": "code",
   "execution_count": null,
   "id": "21639728",
   "metadata": {},
   "outputs": [],
   "source": [
    "for c in cleaned.columns:\n",
    "    if c != 'AGE':\n",
    "        print('-------')\n",
    "        print(f'unique{c}')\n",
    "        print(np.unique(cleaned[c].astype('str')))\n",
    "    else:\n",
    "        continue"
   ]
  },
  {
   "cell_type": "code",
   "execution_count": null,
   "id": "6850142d",
   "metadata": {},
   "outputs": [],
   "source": [
    "cleaned_na = cleaned.dropna()"
   ]
  },
  {
   "cell_type": "code",
   "execution_count": null,
   "id": "b7958a75",
   "metadata": {},
   "outputs": [],
   "source": [
    "cleaned_na.replace('-', np.nan).isna().sum()"
   ]
  },
  {
   "cell_type": "code",
   "execution_count": null,
   "id": "f009d542",
   "metadata": {},
   "outputs": [],
   "source": [
    "cleaned_na = cleaned_na.replace('-', np.nan).dropna() # some values represented null value with -"
   ]
  },
  {
   "cell_type": "code",
   "execution_count": null,
   "id": "6895e16f",
   "metadata": {
    "scrolled": true
   },
   "outputs": [],
   "source": [
    "cleaned_na.isna().sum()"
   ]
  },
  {
   "cell_type": "code",
   "execution_count": null,
   "id": "7a7059e9",
   "metadata": {},
   "outputs": [],
   "source": [
    "for c in cleaned.columns:\n",
    "    if c != 'AGE':\n",
    "        print('-------')\n",
    "        print(f'unique{c}')\n",
    "        print(np.unique(cleaned_na[c].astype('str')))\n",
    "    else:\n",
    "        continue"
   ]
  },
  {
   "cell_type": "code",
   "execution_count": null,
   "id": "1eeed9f8",
   "metadata": {},
   "outputs": [],
   "source": [
    "cleaned_na[cleaned_na['Rank in 2019'] == '551-560']"
   ]
  },
  {
   "cell_type": "code",
   "execution_count": null,
   "id": "fbc2cb77",
   "metadata": {},
   "outputs": [],
   "source": [
    "cleaned_na['Rank in 2020'] = cleaned_na['Rank in 2020'].str.strip().str.replace('=','')\n",
    "cleaned_na['Rank in 2019'] = cleaned_na['Rank in 2019'].str.strip().str.replace('=','') # remove = in columns with = alongside rank value"
   ]
  },
  {
   "cell_type": "code",
   "execution_count": null,
   "id": "3bbc7390",
   "metadata": {
    "scrolled": true
   },
   "outputs": [],
   "source": [
    "cleaned_na"
   ]
  },
  {
   "cell_type": "code",
   "execution_count": null,
   "id": "81ecc0bc",
   "metadata": {},
   "outputs": [],
   "source": [
    "cleaned_na.tail(10)"
   ]
  },
  {
   "cell_type": "code",
   "execution_count": null,
   "id": "1d12c359",
   "metadata": {},
   "outputs": [],
   "source": [
    "cleaned_2019 = df_2019.copy()"
   ]
  },
  {
   "cell_type": "code",
   "execution_count": null,
   "id": "81f7321c",
   "metadata": {
    "scrolled": true
   },
   "outputs": [],
   "source": [
    "cleaned_2019.info()"
   ]
  },
  {
   "cell_type": "code",
   "execution_count": null,
   "id": "125f89ef",
   "metadata": {},
   "outputs": [],
   "source": [
    "cleaned_2019 = cleaned_2019.dropna()"
   ]
  },
  {
   "cell_type": "code",
   "execution_count": null,
   "id": "da18eba9",
   "metadata": {},
   "outputs": [],
   "source": [
    "cleaned_2019.info()"
   ]
  },
  {
   "cell_type": "code",
   "execution_count": null,
   "id": "5c1d5d1f",
   "metadata": {},
   "outputs": [],
   "source": [
    "for c in cleaned_2019.columns:\n",
    "    if c != 'AGE':\n",
    "        print('-------')\n",
    "        print(f'unique{c}')\n",
    "        print(np.unique(cleaned_2019[c].astype('str')))\n",
    "    else:\n",
    "        continue"
   ]
  },
  {
   "cell_type": "code",
   "execution_count": null,
   "id": "674f6738",
   "metadata": {
    "scrolled": true
   },
   "outputs": [],
   "source": [
    "cleaned_2019.replace('-', np.nan).isna().sum()"
   ]
  },
  {
   "cell_type": "code",
   "execution_count": null,
   "id": "ae958667",
   "metadata": {},
   "outputs": [],
   "source": [
    "cleaned_2019 = cleaned_2019.replace('-', np.nan).dropna()"
   ]
  },
  {
   "cell_type": "code",
   "execution_count": null,
   "id": "16045b73",
   "metadata": {
    "scrolled": true
   },
   "outputs": [],
   "source": [
    "cleaned_2019[cleaned_2019['2019'] == '351']"
   ]
  },
  {
   "cell_type": "code",
   "execution_count": null,
   "id": "b027f87d",
   "metadata": {},
   "outputs": [],
   "source": [
    "cleaned_2019['2019'] = cleaned_2019['2019'].str.strip().str.replace('=','')\n",
    "cleaned_2019['2018'] = cleaned_2019['2018'].str.strip().str.replace('=','')"
   ]
  },
  {
   "cell_type": "code",
   "execution_count": null,
   "id": "a42fc821",
   "metadata": {},
   "outputs": [],
   "source": [
    "cleaned_2019.tail(10)"
   ]
  },
  {
   "cell_type": "code",
   "execution_count": null,
   "id": "8d94eeb5",
   "metadata": {},
   "outputs": [],
   "source": [
    "cleaned_2018 = df_2018.copy()"
   ]
  },
  {
   "cell_type": "code",
   "execution_count": null,
   "id": "016b1dd6",
   "metadata": {},
   "outputs": [],
   "source": [
    "cleaned_2018.info()"
   ]
  },
  {
   "cell_type": "code",
   "execution_count": null,
   "id": "f6864398",
   "metadata": {},
   "outputs": [],
   "source": [
    "cleaned_2018 = cleaned_2018.dropna()"
   ]
  },
  {
   "cell_type": "code",
   "execution_count": null,
   "id": "020aa8d5",
   "metadata": {},
   "outputs": [],
   "source": [
    "cleaned_2018.info()"
   ]
  },
  {
   "cell_type": "code",
   "execution_count": null,
   "id": "31f4da2e",
   "metadata": {},
   "outputs": [],
   "source": [
    "for c in cleaned_2018.columns:\n",
    "    if c != 'AGE':\n",
    "        print('-------')\n",
    "        print(f'unique{c}')\n",
    "        print(np.unique(cleaned_2018[c].astype('str')))\n",
    "    else:\n",
    "        continue"
   ]
  },
  {
   "cell_type": "code",
   "execution_count": null,
   "id": "56e5b9c0",
   "metadata": {},
   "outputs": [],
   "source": [
    "cleaned_2018.replace('-', np.nan).isna().sum()"
   ]
  },
  {
   "cell_type": "code",
   "execution_count": null,
   "id": "7630d99a",
   "metadata": {},
   "outputs": [],
   "source": [
    "cleaned_2018 = cleaned_2018.replace('-', np.nan).dropna()"
   ]
  },
  {
   "cell_type": "code",
   "execution_count": null,
   "id": "cc861955",
   "metadata": {},
   "outputs": [],
   "source": [
    "cleaned_2018.info()"
   ]
  },
  {
   "cell_type": "code",
   "execution_count": null,
   "id": "b94e5e62",
   "metadata": {},
   "outputs": [],
   "source": [
    "cleaned_2018['2018'] = cleaned_2018['2018'].str.strip().str.replace('=','')\n",
    "cleaned_2018['2017'] = cleaned_2018['2017'].str.strip().str.replace('=','')"
   ]
  },
  {
   "cell_type": "code",
   "execution_count": null,
   "id": "4e60c87d",
   "metadata": {},
   "outputs": [],
   "source": [
    "    cleaned_2018.tail(10)"
   ]
  },
  {
   "cell_type": "code",
   "execution_count": null,
   "id": "45a4643d",
   "metadata": {},
   "outputs": [],
   "source": [
    "cleaned_na['Institution Name'] = cleaned_na['Institution Name'].str.replace(',','')\n",
    "cleaned_na['Institution Name'] = cleaned_na['Institution Name'].str.replace('.','')\n",
    "cleaned_na['Institution Name'] = cleaned_na['Institution Name'].str.lower()\n",
    "cleaned_na['Institution Name']"
   ]
  },
  {
   "cell_type": "code",
   "execution_count": null,
   "id": "e07db196",
   "metadata": {},
   "outputs": [],
   "source": [
    "cleaned_2019['Institution Name'] = cleaned_2019['Institution Name'].str.replace(',','')\n",
    "cleaned_2019['Institution Name'] = cleaned_2019['Institution Name'].str.replace('.','')\n",
    "cleaned_2019['Institution Name'] = cleaned_2019['Institution Name'].str.lower()"
   ]
  },
  {
   "cell_type": "code",
   "execution_count": null,
   "id": "127d9abb",
   "metadata": {},
   "outputs": [],
   "source": [
    "cleaned_2018['Institution Name'] = cleaned_2018['Institution Name'].str.replace(',','')\n",
    "cleaned_2018['Institution Name'] = cleaned_2018['Institution Name'].str.replace('.','')\n",
    "cleaned_2018['Institution Name'] = cleaned_2018['Institution Name'].str.lower()"
   ]
  },
  {
   "cell_type": "code",
   "execution_count": null,
   "id": "e3ef2605",
   "metadata": {},
   "outputs": [],
   "source": [
    "final = pd.concat([cleaned_na, cleaned_2019, cleaned_2018], axis = 1).dropna()"
   ]
  },
  {
   "cell_type": "code",
   "execution_count": null,
   "id": "ee6f583f",
   "metadata": {},
   "outputs": [],
   "source": [
    "final[['Rank in 2020', 'Rank in 2019', '2019', '2018', '2017', 'Institution Name']]"
   ]
  },
  {
   "cell_type": "code",
   "execution_count": null,
   "id": "55eeffa7",
   "metadata": {},
   "outputs": [],
   "source": [
    "final.columns"
   ]
  },
  {
   "cell_type": "code",
   "execution_count": null,
   "id": "c49af9ef",
   "metadata": {},
   "outputs": [],
   "source": [
    "cleaned_na"
   ]
  },
  {
   "cell_type": "code",
   "execution_count": null,
   "id": "72ce1f69",
   "metadata": {},
   "outputs": [],
   "source": [
    "cleaned_2018"
   ]
  },
  {
   "cell_type": "code",
   "execution_count": null,
   "id": "d5c2d170",
   "metadata": {
    "scrolled": true
   },
   "outputs": [],
   "source": [
    "cleaned_2019"
   ]
  },
  {
   "cell_type": "code",
   "execution_count": null,
   "id": "05a494be",
   "metadata": {
    "scrolled": false
   },
   "outputs": [],
   "source": [
    "names_2019 = list(cleaned_2019['Institution Name'])\n",
    "names_2018 = list(cleaned_2018['Institution Name'])\n",
    "names_2020 = list(cleaned_na['Institution Name'])"
   ]
  },
  {
   "cell_type": "code",
   "execution_count": null,
   "id": "a5434d25",
   "metadata": {},
   "outputs": [],
   "source": [
    "for i in range(len(names_2020)):\n",
    "    names_2020[i] = names_2020[i].lower()\n",
    "for i in range(len(names_2019)):\n",
    "    names_2019[i] = names_2019[i].lower()"
   ]
  },
  {
   "cell_type": "code",
   "execution_count": null,
   "id": "4b0d9d8a",
   "metadata": {},
   "outputs": [],
   "source": [
    "names_2020"
   ]
  },
  {
   "cell_type": "code",
   "execution_count": null,
   "id": "8b0d344c",
   "metadata": {
    "scrolled": true
   },
   "outputs": [],
   "source": [
    "a = []\n",
    "for i, name in enumerate(names_2020):\n",
    "    if name not in names_2019:\n",
    "        a.append(name)\n",
    "print(len(a))\n",
    "print(len(names_2020))"
   ]
  },
  {
   "cell_type": "code",
   "execution_count": null,
   "id": "eb0a5e16",
   "metadata": {
    "scrolled": true
   },
   "outputs": [],
   "source": [
    "b = []\n",
    "for name in names_2019:\n",
    "    if name not in names_2020:\n",
    "        b.append(name)\n",
    "print(len(b))\n",
    "print(len(names_2019))"
   ]
  },
  {
   "cell_type": "code",
   "execution_count": null,
   "id": "4de47270",
   "metadata": {},
   "outputs": [],
   "source": [
    "c = []\n",
    "for i, name in enumerate(names_2018):\n",
    "    if name not in names_2019:\n",
    "        c.append(name)\n",
    "print(len(c))\n",
    "print(len(names_2018))"
   ]
  },
  {
   "cell_type": "code",
   "execution_count": 2,
   "id": "f7ad6f3d",
   "metadata": {
    "scrolled": true
   },
   "outputs": [
    {
     "ename": "NameError",
     "evalue": "name 'df_2019' is not defined",
     "output_type": "error",
     "traceback": [
      "\u001b[1;31m---------------------------------------------------------------------------\u001b[0m",
      "\u001b[1;31mNameError\u001b[0m                                 Traceback (most recent call last)",
      "Input \u001b[1;32mIn [2]\u001b[0m, in \u001b[0;36m<cell line: 1>\u001b[1;34m()\u001b[0m\n\u001b[1;32m----> 1\u001b[0m \u001b[43mdf_2019\u001b[49m\u001b[38;5;241m.\u001b[39mdropna()[df_2019\u001b[38;5;241m.\u001b[39mdropna()[\u001b[38;5;124m'\u001b[39m\u001b[38;5;124m2019\u001b[39m\u001b[38;5;124m'\u001b[39m] \u001b[38;5;241m==\u001b[39m \u001b[38;5;124m'\u001b[39m\u001b[38;5;124m351\u001b[39m\u001b[38;5;124m'\u001b[39m]\u001b[38;5;241m.\u001b[39mreplace(\u001b[38;5;124m'\u001b[39m\u001b[38;5;124m-\u001b[39m\u001b[38;5;124m'\u001b[39m, np\u001b[38;5;241m.\u001b[39mnan)\u001b[38;5;241m.\u001b[39minfo()\n",
      "\u001b[1;31mNameError\u001b[0m: name 'df_2019' is not defined"
     ]
    }
   ],
   "source": [
    "df_2019.dropna()[df_2019.dropna()['2019'] == '351'].replace('-', np.nan).info()"
   ]
  },
  {
   "cell_type": "code",
   "execution_count": null,
   "id": "8ff2e580",
   "metadata": {},
   "outputs": [],
   "source": [
    "cleaned_na.to_csv('df2020.csv', index = False)\n",
    "cleaned_2019.to_csv('df2019.csv', index = False)\n",
    "cleaned_2018.to_csv('df2018.csv', index = False)"
   ]
  },
  {
   "cell_type": "code",
   "execution_count": null,
   "id": "15400b71",
   "metadata": {},
   "outputs": [],
   "source": []
  }
 ],
 "metadata": {
  "kernelspec": {
   "display_name": "Python 3 (ipykernel)",
   "language": "python",
   "name": "python3"
  },
  "language_info": {
   "codemirror_mode": {
    "name": "ipython",
    "version": 3
   },
   "file_extension": ".py",
   "mimetype": "text/x-python",
   "name": "python",
   "nbconvert_exporter": "python",
   "pygments_lexer": "ipython3",
   "version": "3.10.4"
  }
 },
 "nbformat": 4,
 "nbformat_minor": 5
}
