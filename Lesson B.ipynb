{
 "cells": [
  {
   "cell_type": "code",
   "execution_count": 3,
   "id": "da6f7575",
   "metadata": {},
   "outputs": [],
   "source": [
    "import pandas as pd"
   ]
  },
  {
   "cell_type": "code",
   "execution_count": 4,
   "id": "3b39c598",
   "metadata": {},
   "outputs": [],
   "source": [
    "df = pd.read_csv(\"temporal.csv\")"
   ]
  },
  {
   "cell_type": "code",
   "execution_count": 49,
   "id": "64c9ef5b",
   "metadata": {},
   "outputs": [
    {
     "data": {
      "text/html": [
       "<div>\n",
       "<style scoped>\n",
       "    .dataframe tbody tr th:only-of-type {\n",
       "        vertical-align: middle;\n",
       "    }\n",
       "\n",
       "    .dataframe tbody tr th {\n",
       "        vertical-align: top;\n",
       "    }\n",
       "\n",
       "    .dataframe thead th {\n",
       "        text-align: right;\n",
       "    }\n",
       "</style>\n",
       "<table border=\"1\" class=\"dataframe\">\n",
       "  <thead>\n",
       "    <tr style=\"text-align: right;\">\n",
       "      <th></th>\n",
       "      <th>Mes</th>\n",
       "      <th>data science</th>\n",
       "      <th>machine learning</th>\n",
       "      <th>deep learning</th>\n",
       "      <th>categorical</th>\n",
       "    </tr>\n",
       "  </thead>\n",
       "  <tbody>\n",
       "    <tr>\n",
       "      <th>0</th>\n",
       "      <td>2004-01-01</td>\n",
       "      <td>12</td>\n",
       "      <td>18</td>\n",
       "      <td>4</td>\n",
       "      <td>1</td>\n",
       "    </tr>\n",
       "    <tr>\n",
       "      <th>1</th>\n",
       "      <td>2004-02-01</td>\n",
       "      <td>12</td>\n",
       "      <td>21</td>\n",
       "      <td>2</td>\n",
       "      <td>1</td>\n",
       "    </tr>\n",
       "    <tr>\n",
       "      <th>2</th>\n",
       "      <td>2004-03-01</td>\n",
       "      <td>9</td>\n",
       "      <td>21</td>\n",
       "      <td>2</td>\n",
       "      <td>1</td>\n",
       "    </tr>\n",
       "    <tr>\n",
       "      <th>3</th>\n",
       "      <td>2004-04-01</td>\n",
       "      <td>10</td>\n",
       "      <td>16</td>\n",
       "      <td>4</td>\n",
       "      <td>1</td>\n",
       "    </tr>\n",
       "    <tr>\n",
       "      <th>4</th>\n",
       "      <td>2004-05-01</td>\n",
       "      <td>7</td>\n",
       "      <td>14</td>\n",
       "      <td>3</td>\n",
       "      <td>1</td>\n",
       "    </tr>\n",
       "  </tbody>\n",
       "</table>\n",
       "</div>"
      ],
      "text/plain": [
       "          Mes  data science  machine learning  deep learning  categorical\n",
       "0  2004-01-01            12                18              4            1\n",
       "1  2004-02-01            12                21              2            1\n",
       "2  2004-03-01             9                21              2            1\n",
       "3  2004-04-01            10                16              4            1\n",
       "4  2004-05-01             7                14              3            1"
      ]
     },
     "execution_count": 49,
     "metadata": {},
     "output_type": "execute_result"
    }
   ],
   "source": [
    "df.head()"
   ]
  },
  {
   "cell_type": "code",
   "execution_count": 27,
   "id": "189d574d",
   "metadata": {},
   "outputs": [
    {
     "data": {
      "text/html": [
       "<div>\n",
       "<style scoped>\n",
       "    .dataframe tbody tr th:only-of-type {\n",
       "        vertical-align: middle;\n",
       "    }\n",
       "\n",
       "    .dataframe tbody tr th {\n",
       "        vertical-align: top;\n",
       "    }\n",
       "\n",
       "    .dataframe thead th {\n",
       "        text-align: right;\n",
       "    }\n",
       "</style>\n",
       "<table border=\"1\" class=\"dataframe\">\n",
       "  <thead>\n",
       "    <tr style=\"text-align: right;\">\n",
       "      <th></th>\n",
       "      <th>data science</th>\n",
       "      <th>machine learning</th>\n",
       "      <th>deep learning</th>\n",
       "      <th>categorical</th>\n",
       "    </tr>\n",
       "  </thead>\n",
       "  <tbody>\n",
       "    <tr>\n",
       "      <th>count</th>\n",
       "      <td>194.000000</td>\n",
       "      <td>194.000000</td>\n",
       "      <td>194.000000</td>\n",
       "      <td>194.000000</td>\n",
       "    </tr>\n",
       "    <tr>\n",
       "      <th>mean</th>\n",
       "      <td>20.953608</td>\n",
       "      <td>27.396907</td>\n",
       "      <td>24.231959</td>\n",
       "      <td>0.257732</td>\n",
       "    </tr>\n",
       "    <tr>\n",
       "      <th>std</th>\n",
       "      <td>23.951006</td>\n",
       "      <td>28.091490</td>\n",
       "      <td>34.476887</td>\n",
       "      <td>0.438517</td>\n",
       "    </tr>\n",
       "    <tr>\n",
       "      <th>min</th>\n",
       "      <td>4.000000</td>\n",
       "      <td>7.000000</td>\n",
       "      <td>1.000000</td>\n",
       "      <td>0.000000</td>\n",
       "    </tr>\n",
       "    <tr>\n",
       "      <th>25%</th>\n",
       "      <td>6.000000</td>\n",
       "      <td>9.000000</td>\n",
       "      <td>2.000000</td>\n",
       "      <td>0.000000</td>\n",
       "    </tr>\n",
       "    <tr>\n",
       "      <th>50%</th>\n",
       "      <td>8.000000</td>\n",
       "      <td>13.000000</td>\n",
       "      <td>3.000000</td>\n",
       "      <td>0.000000</td>\n",
       "    </tr>\n",
       "    <tr>\n",
       "      <th>75%</th>\n",
       "      <td>26.750000</td>\n",
       "      <td>31.500000</td>\n",
       "      <td>34.000000</td>\n",
       "      <td>1.000000</td>\n",
       "    </tr>\n",
       "    <tr>\n",
       "      <th>max</th>\n",
       "      <td>100.000000</td>\n",
       "      <td>100.000000</td>\n",
       "      <td>100.000000</td>\n",
       "      <td>1.000000</td>\n",
       "    </tr>\n",
       "  </tbody>\n",
       "</table>\n",
       "</div>"
      ],
      "text/plain": [
       "       data science  machine learning  deep learning  categorical\n",
       "count    194.000000        194.000000     194.000000   194.000000\n",
       "mean      20.953608         27.396907      24.231959     0.257732\n",
       "std       23.951006         28.091490      34.476887     0.438517\n",
       "min        4.000000          7.000000       1.000000     0.000000\n",
       "25%        6.000000          9.000000       2.000000     0.000000\n",
       "50%        8.000000         13.000000       3.000000     0.000000\n",
       "75%       26.750000         31.500000      34.000000     1.000000\n",
       "max      100.000000        100.000000     100.000000     1.000000"
      ]
     },
     "execution_count": 27,
     "metadata": {},
     "output_type": "execute_result"
    }
   ],
   "source": [
    "df.describe()"
   ]
  },
  {
   "cell_type": "code",
   "execution_count": 28,
   "id": "f209faa2",
   "metadata": {},
   "outputs": [
    {
     "name": "stdout",
     "output_type": "stream",
     "text": [
      "<class 'pandas.core.frame.DataFrame'>\n",
      "RangeIndex: 194 entries, 0 to 193\n",
      "Data columns (total 5 columns):\n",
      " #   Column            Non-Null Count  Dtype \n",
      "---  ------            --------------  ----- \n",
      " 0   Mes               194 non-null    object\n",
      " 1   data science      194 non-null    int64 \n",
      " 2   machine learning  194 non-null    int64 \n",
      " 3   deep learning     194 non-null    int64 \n",
      " 4   categorical       194 non-null    int64 \n",
      "dtypes: int64(4), object(1)\n",
      "memory usage: 7.7+ KB\n"
     ]
    }
   ],
   "source": [
    "df.info()"
   ]
  },
  {
   "cell_type": "code",
   "execution_count": 29,
   "id": "390b3710",
   "metadata": {},
   "outputs": [],
   "source": [
    "pd.set_option('display.max_rows',500)\n",
    "pd.set_option('display.max_columns',500)\n",
    "pd.set_option('display.width',1000)"
   ]
  },
  {
   "cell_type": "code",
   "execution_count": 30,
   "id": "2a32f9ae",
   "metadata": {},
   "outputs": [
    {
     "data": {
      "text/html": [
       "<style type=\"text/css\">\n",
       "</style>\n",
       "<table id=\"T_39856\">\n",
       "  <thead>\n",
       "    <tr>\n",
       "      <th class=\"blank level0\" >&nbsp;</th>\n",
       "      <th id=\"T_39856_level0_col0\" class=\"col_heading level0 col0\" >Mes</th>\n",
       "      <th id=\"T_39856_level0_col1\" class=\"col_heading level0 col1\" >data science</th>\n",
       "      <th id=\"T_39856_level0_col2\" class=\"col_heading level0 col2\" >machine learning</th>\n",
       "      <th id=\"T_39856_level0_col3\" class=\"col_heading level0 col3\" >deep learning</th>\n",
       "      <th id=\"T_39856_level0_col4\" class=\"col_heading level0 col4\" >categorical</th>\n",
       "    </tr>\n",
       "  </thead>\n",
       "  <tbody>\n",
       "    <tr>\n",
       "      <th id=\"T_39856_level0_row0\" class=\"row_heading level0 row0\" >0</th>\n",
       "      <td id=\"T_39856_row0_col0\" class=\"data row0 col0\" >01,04</td>\n",
       "      <td id=\"T_39856_row0_col1\" class=\"data row0 col1\" >$12.00</td>\n",
       "      <td id=\"T_39856_row0_col2\" class=\"data row0 col2\" >1800.00%</td>\n",
       "      <td id=\"T_39856_row0_col3\" class=\"data row0 col3\" >4</td>\n",
       "      <td id=\"T_39856_row0_col4\" class=\"data row0 col4\" >1</td>\n",
       "    </tr>\n",
       "    <tr>\n",
       "      <th id=\"T_39856_level0_row1\" class=\"row_heading level0 row1\" >1</th>\n",
       "      <td id=\"T_39856_row1_col0\" class=\"data row1 col0\" >02,04</td>\n",
       "      <td id=\"T_39856_row1_col1\" class=\"data row1 col1\" >$12.00</td>\n",
       "      <td id=\"T_39856_row1_col2\" class=\"data row1 col2\" >2100.00%</td>\n",
       "      <td id=\"T_39856_row1_col3\" class=\"data row1 col3\" >2</td>\n",
       "      <td id=\"T_39856_row1_col4\" class=\"data row1 col4\" >1</td>\n",
       "    </tr>\n",
       "    <tr>\n",
       "      <th id=\"T_39856_level0_row2\" class=\"row_heading level0 row2\" >2</th>\n",
       "      <td id=\"T_39856_row2_col0\" class=\"data row2 col0\" >03,04</td>\n",
       "      <td id=\"T_39856_row2_col1\" class=\"data row2 col1\" >$9.00</td>\n",
       "      <td id=\"T_39856_row2_col2\" class=\"data row2 col2\" >2100.00%</td>\n",
       "      <td id=\"T_39856_row2_col3\" class=\"data row2 col3\" >2</td>\n",
       "      <td id=\"T_39856_row2_col4\" class=\"data row2 col4\" >1</td>\n",
       "    </tr>\n",
       "    <tr>\n",
       "      <th id=\"T_39856_level0_row3\" class=\"row_heading level0 row3\" >3</th>\n",
       "      <td id=\"T_39856_row3_col0\" class=\"data row3 col0\" >04,04</td>\n",
       "      <td id=\"T_39856_row3_col1\" class=\"data row3 col1\" >$10.00</td>\n",
       "      <td id=\"T_39856_row3_col2\" class=\"data row3 col2\" >1600.00%</td>\n",
       "      <td id=\"T_39856_row3_col3\" class=\"data row3 col3\" >4</td>\n",
       "      <td id=\"T_39856_row3_col4\" class=\"data row3 col4\" >1</td>\n",
       "    </tr>\n",
       "    <tr>\n",
       "      <th id=\"T_39856_level0_row4\" class=\"row_heading level0 row4\" >4</th>\n",
       "      <td id=\"T_39856_row4_col0\" class=\"data row4 col0\" >05,04</td>\n",
       "      <td id=\"T_39856_row4_col1\" class=\"data row4 col1\" >$7.00</td>\n",
       "      <td id=\"T_39856_row4_col2\" class=\"data row4 col2\" >1400.00%</td>\n",
       "      <td id=\"T_39856_row4_col3\" class=\"data row4 col3\" >3</td>\n",
       "      <td id=\"T_39856_row4_col4\" class=\"data row4 col4\" >1</td>\n",
       "    </tr>\n",
       "  </tbody>\n",
       "</table>\n"
      ],
      "text/plain": [
       "<pandas.io.formats.style.Styler at 0x1b5c46b2710>"
      ]
     },
     "execution_count": 30,
     "metadata": {},
     "output_type": "execute_result"
    }
   ],
   "source": [
    "format_dict = {'data science':'${0:,.2f}', 'Mes':'{:%m,%y}', 'machine learning':'{:.2%}'}\n",
    "df['Mes'] = pd.to_datetime(df['Mes'])\n",
    "df.head().style.format(format_dict)"
   ]
  },
  {
   "cell_type": "code",
   "execution_count": 31,
   "id": "3001e825",
   "metadata": {},
   "outputs": [
    {
     "data": {
      "text/html": [
       "<style type=\"text/css\">\n",
       "#T_81da0_row0_col0, #T_81da0_row1_col3, #T_81da0_row2_col3, #T_81da0_row4_col1, #T_81da0_row4_col2 {\n",
       "  background-color: yellow;\n",
       "}\n",
       "#T_81da0_row0_col1, #T_81da0_row0_col3, #T_81da0_row1_col1, #T_81da0_row1_col2, #T_81da0_row2_col2, #T_81da0_row3_col3, #T_81da0_row4_col0 {\n",
       "  background-color: darkgreen;\n",
       "}\n",
       "#T_81da0_row0_col4, #T_81da0_row1_col4, #T_81da0_row2_col4, #T_81da0_row3_col4, #T_81da0_row4_col4 {\n",
       "  background-color: darkgreen;\n",
       "  background-color: yellow;\n",
       "}\n",
       "</style>\n",
       "<table id=\"T_81da0\">\n",
       "  <thead>\n",
       "    <tr>\n",
       "      <th class=\"blank level0\" >&nbsp;</th>\n",
       "      <th id=\"T_81da0_level0_col0\" class=\"col_heading level0 col0\" >Mes</th>\n",
       "      <th id=\"T_81da0_level0_col1\" class=\"col_heading level0 col1\" >data science</th>\n",
       "      <th id=\"T_81da0_level0_col2\" class=\"col_heading level0 col2\" >machine learning</th>\n",
       "      <th id=\"T_81da0_level0_col3\" class=\"col_heading level0 col3\" >deep learning</th>\n",
       "      <th id=\"T_81da0_level0_col4\" class=\"col_heading level0 col4\" >categorical</th>\n",
       "    </tr>\n",
       "  </thead>\n",
       "  <tbody>\n",
       "    <tr>\n",
       "      <th id=\"T_81da0_level0_row0\" class=\"row_heading level0 row0\" >0</th>\n",
       "      <td id=\"T_81da0_row0_col0\" class=\"data row0 col0\" >01-2004</td>\n",
       "      <td id=\"T_81da0_row0_col1\" class=\"data row0 col1\" >12</td>\n",
       "      <td id=\"T_81da0_row0_col2\" class=\"data row0 col2\" >18</td>\n",
       "      <td id=\"T_81da0_row0_col3\" class=\"data row0 col3\" >4</td>\n",
       "      <td id=\"T_81da0_row0_col4\" class=\"data row0 col4\" >1</td>\n",
       "    </tr>\n",
       "    <tr>\n",
       "      <th id=\"T_81da0_level0_row1\" class=\"row_heading level0 row1\" >1</th>\n",
       "      <td id=\"T_81da0_row1_col0\" class=\"data row1 col0\" >02-2004</td>\n",
       "      <td id=\"T_81da0_row1_col1\" class=\"data row1 col1\" >12</td>\n",
       "      <td id=\"T_81da0_row1_col2\" class=\"data row1 col2\" >21</td>\n",
       "      <td id=\"T_81da0_row1_col3\" class=\"data row1 col3\" >2</td>\n",
       "      <td id=\"T_81da0_row1_col4\" class=\"data row1 col4\" >1</td>\n",
       "    </tr>\n",
       "    <tr>\n",
       "      <th id=\"T_81da0_level0_row2\" class=\"row_heading level0 row2\" >2</th>\n",
       "      <td id=\"T_81da0_row2_col0\" class=\"data row2 col0\" >03-2004</td>\n",
       "      <td id=\"T_81da0_row2_col1\" class=\"data row2 col1\" >9</td>\n",
       "      <td id=\"T_81da0_row2_col2\" class=\"data row2 col2\" >21</td>\n",
       "      <td id=\"T_81da0_row2_col3\" class=\"data row2 col3\" >2</td>\n",
       "      <td id=\"T_81da0_row2_col4\" class=\"data row2 col4\" >1</td>\n",
       "    </tr>\n",
       "    <tr>\n",
       "      <th id=\"T_81da0_level0_row3\" class=\"row_heading level0 row3\" >3</th>\n",
       "      <td id=\"T_81da0_row3_col0\" class=\"data row3 col0\" >04-2004</td>\n",
       "      <td id=\"T_81da0_row3_col1\" class=\"data row3 col1\" >10</td>\n",
       "      <td id=\"T_81da0_row3_col2\" class=\"data row3 col2\" >16</td>\n",
       "      <td id=\"T_81da0_row3_col3\" class=\"data row3 col3\" >4</td>\n",
       "      <td id=\"T_81da0_row3_col4\" class=\"data row3 col4\" >1</td>\n",
       "    </tr>\n",
       "    <tr>\n",
       "      <th id=\"T_81da0_level0_row4\" class=\"row_heading level0 row4\" >4</th>\n",
       "      <td id=\"T_81da0_row4_col0\" class=\"data row4 col0\" >05-2004</td>\n",
       "      <td id=\"T_81da0_row4_col1\" class=\"data row4 col1\" >7</td>\n",
       "      <td id=\"T_81da0_row4_col2\" class=\"data row4 col2\" >14</td>\n",
       "      <td id=\"T_81da0_row4_col3\" class=\"data row4 col3\" >3</td>\n",
       "      <td id=\"T_81da0_row4_col4\" class=\"data row4 col4\" >1</td>\n",
       "    </tr>\n",
       "  </tbody>\n",
       "</table>\n"
      ],
      "text/plain": [
       "<pandas.io.formats.style.Styler at 0x1b5c46e4280>"
      ]
     },
     "execution_count": 31,
     "metadata": {},
     "output_type": "execute_result"
    }
   ],
   "source": [
    "format_dict = {'Mes':'{:%m-%Y}'}\n",
    "df.head().style.format(format_dict).highlight_max(color='darkgreen').highlight_min(color='yellow')"
   ]
  },
  {
   "cell_type": "code",
   "execution_count": 32,
   "id": "f6cdc622",
   "metadata": {},
   "outputs": [
    {
     "data": {
      "text/html": [
       "<style type=\"text/css\">\n",
       "#T_2f3e7_row0_col1, #T_2f3e7_row0_col3, #T_2f3e7_row1_col1, #T_2f3e7_row1_col2, #T_2f3e7_row2_col2, #T_2f3e7_row3_col3, #T_2f3e7_row8_col3, #T_2f3e7_row9_col3 {\n",
       "  background-color: #fdfbfb;\n",
       "  color: #000000;\n",
       "  background-color: red;\n",
       "}\n",
       "#T_2f3e7_row0_col2 {\n",
       "  background-color: #bab061;\n",
       "  color: #000000;\n",
       "}\n",
       "#T_2f3e7_row0_col4, #T_2f3e7_row1_col4, #T_2f3e7_row2_col4, #T_2f3e7_row3_col4, #T_2f3e7_row4_col4, #T_2f3e7_row5_col4, #T_2f3e7_row6_col4, #T_2f3e7_row7_col4, #T_2f3e7_row8_col4, #T_2f3e7_row9_col4, #T_2f3e7_row10_col4, #T_2f3e7_row11_col4, #T_2f3e7_row19_col0 {\n",
       "  background-color: red;\n",
       "}\n",
       "#T_2f3e7_row1_col3, #T_2f3e7_row2_col3, #T_2f3e7_row10_col3, #T_2f3e7_row11_col3, #T_2f3e7_row12_col3, #T_2f3e7_row14_col3, #T_2f3e7_row18_col1, #T_2f3e7_row18_col3, #T_2f3e7_row19_col2, #T_2f3e7_row19_col3 {\n",
       "  background-color: #000000;\n",
       "  color: #f1f1f1;\n",
       "}\n",
       "#T_2f3e7_row2_col1, #T_2f3e7_row4_col3, #T_2f3e7_row5_col1, #T_2f3e7_row5_col3, #T_2f3e7_row6_col1, #T_2f3e7_row6_col3, #T_2f3e7_row7_col3, #T_2f3e7_row13_col1, #T_2f3e7_row13_col3, #T_2f3e7_row15_col3, #T_2f3e7_row16_col3, #T_2f3e7_row17_col3, #T_2f3e7_row19_col1 {\n",
       "  background-color: #5ea04b;\n",
       "  color: #f1f1f1;\n",
       "}\n",
       "#T_2f3e7_row3_col1, #T_2f3e7_row8_col1, #T_2f3e7_row12_col1 {\n",
       "  background-color: #aab35c;\n",
       "  color: #000000;\n",
       "}\n",
       "#T_2f3e7_row3_col2, #T_2f3e7_row6_col2, #T_2f3e7_row11_col2, #T_2f3e7_row12_col2 {\n",
       "  background-color: #76a652;\n",
       "  color: #f1f1f1;\n",
       "}\n",
       "#T_2f3e7_row4_col1, #T_2f3e7_row7_col1 {\n",
       "  background-color: #1c4d7a;\n",
       "  color: #f1f1f1;\n",
       "}\n",
       "#T_2f3e7_row4_col2, #T_2f3e7_row7_col2, #T_2f3e7_row13_col2 {\n",
       "  background-color: #3a8c66;\n",
       "  color: #f1f1f1;\n",
       "}\n",
       "#T_2f3e7_row5_col2, #T_2f3e7_row8_col2, #T_2f3e7_row9_col2 {\n",
       "  background-color: #9db059;\n",
       "  color: #f1f1f1;\n",
       "}\n",
       "#T_2f3e7_row9_col1, #T_2f3e7_row10_col1, #T_2f3e7_row11_col1, #T_2f3e7_row14_col1, #T_2f3e7_row15_col1, #T_2f3e7_row16_col1, #T_2f3e7_row17_col1 {\n",
       "  background-color: #368770;\n",
       "  color: #f1f1f1;\n",
       "}\n",
       "#T_2f3e7_row10_col2, #T_2f3e7_row16_col2 {\n",
       "  background-color: #45994a;\n",
       "  color: #f1f1f1;\n",
       "}\n",
       "#T_2f3e7_row14_col2 {\n",
       "  background-color: #2e7b7f;\n",
       "  color: #f1f1f1;\n",
       "}\n",
       "#T_2f3e7_row15_col2, #T_2f3e7_row17_col2 {\n",
       "  background-color: #1f557b;\n",
       "  color: #f1f1f1;\n",
       "}\n",
       "#T_2f3e7_row18_col2 {\n",
       "  background-color: #0f2577;\n",
       "  color: #f1f1f1;\n",
       "}\n",
       "</style>\n",
       "<table id=\"T_2f3e7\">\n",
       "  <thead>\n",
       "    <tr>\n",
       "      <th class=\"blank level0\" >&nbsp;</th>\n",
       "      <th id=\"T_2f3e7_level0_col0\" class=\"col_heading level0 col0\" >Mes</th>\n",
       "      <th id=\"T_2f3e7_level0_col1\" class=\"col_heading level0 col1\" >data science</th>\n",
       "      <th id=\"T_2f3e7_level0_col2\" class=\"col_heading level0 col2\" >machine learning</th>\n",
       "      <th id=\"T_2f3e7_level0_col3\" class=\"col_heading level0 col3\" >deep learning</th>\n",
       "      <th id=\"T_2f3e7_level0_col4\" class=\"col_heading level0 col4\" >categorical</th>\n",
       "    </tr>\n",
       "  </thead>\n",
       "  <tbody>\n",
       "    <tr>\n",
       "      <th id=\"T_2f3e7_level0_row0\" class=\"row_heading level0 row0\" >0</th>\n",
       "      <td id=\"T_2f3e7_row0_col0\" class=\"data row0 col0\" >01-2004</td>\n",
       "      <td id=\"T_2f3e7_row0_col1\" class=\"data row0 col1\" >12</td>\n",
       "      <td id=\"T_2f3e7_row0_col2\" class=\"data row0 col2\" >18</td>\n",
       "      <td id=\"T_2f3e7_row0_col3\" class=\"data row0 col3\" >4</td>\n",
       "      <td id=\"T_2f3e7_row0_col4\" class=\"data row0 col4\" >1</td>\n",
       "    </tr>\n",
       "    <tr>\n",
       "      <th id=\"T_2f3e7_level0_row1\" class=\"row_heading level0 row1\" >1</th>\n",
       "      <td id=\"T_2f3e7_row1_col0\" class=\"data row1 col0\" >02-2004</td>\n",
       "      <td id=\"T_2f3e7_row1_col1\" class=\"data row1 col1\" >12</td>\n",
       "      <td id=\"T_2f3e7_row1_col2\" class=\"data row1 col2\" >21</td>\n",
       "      <td id=\"T_2f3e7_row1_col3\" class=\"data row1 col3\" >2</td>\n",
       "      <td id=\"T_2f3e7_row1_col4\" class=\"data row1 col4\" >1</td>\n",
       "    </tr>\n",
       "    <tr>\n",
       "      <th id=\"T_2f3e7_level0_row2\" class=\"row_heading level0 row2\" >2</th>\n",
       "      <td id=\"T_2f3e7_row2_col0\" class=\"data row2 col0\" >03-2004</td>\n",
       "      <td id=\"T_2f3e7_row2_col1\" class=\"data row2 col1\" >9</td>\n",
       "      <td id=\"T_2f3e7_row2_col2\" class=\"data row2 col2\" >21</td>\n",
       "      <td id=\"T_2f3e7_row2_col3\" class=\"data row2 col3\" >2</td>\n",
       "      <td id=\"T_2f3e7_row2_col4\" class=\"data row2 col4\" >1</td>\n",
       "    </tr>\n",
       "    <tr>\n",
       "      <th id=\"T_2f3e7_level0_row3\" class=\"row_heading level0 row3\" >3</th>\n",
       "      <td id=\"T_2f3e7_row3_col0\" class=\"data row3 col0\" >04-2004</td>\n",
       "      <td id=\"T_2f3e7_row3_col1\" class=\"data row3 col1\" >10</td>\n",
       "      <td id=\"T_2f3e7_row3_col2\" class=\"data row3 col2\" >16</td>\n",
       "      <td id=\"T_2f3e7_row3_col3\" class=\"data row3 col3\" >4</td>\n",
       "      <td id=\"T_2f3e7_row3_col4\" class=\"data row3 col4\" >1</td>\n",
       "    </tr>\n",
       "    <tr>\n",
       "      <th id=\"T_2f3e7_level0_row4\" class=\"row_heading level0 row4\" >4</th>\n",
       "      <td id=\"T_2f3e7_row4_col0\" class=\"data row4 col0\" >05-2004</td>\n",
       "      <td id=\"T_2f3e7_row4_col1\" class=\"data row4 col1\" >7</td>\n",
       "      <td id=\"T_2f3e7_row4_col2\" class=\"data row4 col2\" >14</td>\n",
       "      <td id=\"T_2f3e7_row4_col3\" class=\"data row4 col3\" >3</td>\n",
       "      <td id=\"T_2f3e7_row4_col4\" class=\"data row4 col4\" >1</td>\n",
       "    </tr>\n",
       "    <tr>\n",
       "      <th id=\"T_2f3e7_level0_row5\" class=\"row_heading level0 row5\" >5</th>\n",
       "      <td id=\"T_2f3e7_row5_col0\" class=\"data row5 col0\" >06-2004</td>\n",
       "      <td id=\"T_2f3e7_row5_col1\" class=\"data row5 col1\" >9</td>\n",
       "      <td id=\"T_2f3e7_row5_col2\" class=\"data row5 col2\" >17</td>\n",
       "      <td id=\"T_2f3e7_row5_col3\" class=\"data row5 col3\" >3</td>\n",
       "      <td id=\"T_2f3e7_row5_col4\" class=\"data row5 col4\" >1</td>\n",
       "    </tr>\n",
       "    <tr>\n",
       "      <th id=\"T_2f3e7_level0_row6\" class=\"row_heading level0 row6\" >6</th>\n",
       "      <td id=\"T_2f3e7_row6_col0\" class=\"data row6 col0\" >07-2004</td>\n",
       "      <td id=\"T_2f3e7_row6_col1\" class=\"data row6 col1\" >9</td>\n",
       "      <td id=\"T_2f3e7_row6_col2\" class=\"data row6 col2\" >16</td>\n",
       "      <td id=\"T_2f3e7_row6_col3\" class=\"data row6 col3\" >3</td>\n",
       "      <td id=\"T_2f3e7_row6_col4\" class=\"data row6 col4\" >1</td>\n",
       "    </tr>\n",
       "    <tr>\n",
       "      <th id=\"T_2f3e7_level0_row7\" class=\"row_heading level0 row7\" >7</th>\n",
       "      <td id=\"T_2f3e7_row7_col0\" class=\"data row7 col0\" >08-2004</td>\n",
       "      <td id=\"T_2f3e7_row7_col1\" class=\"data row7 col1\" >7</td>\n",
       "      <td id=\"T_2f3e7_row7_col2\" class=\"data row7 col2\" >14</td>\n",
       "      <td id=\"T_2f3e7_row7_col3\" class=\"data row7 col3\" >3</td>\n",
       "      <td id=\"T_2f3e7_row7_col4\" class=\"data row7 col4\" >1</td>\n",
       "    </tr>\n",
       "    <tr>\n",
       "      <th id=\"T_2f3e7_level0_row8\" class=\"row_heading level0 row8\" >8</th>\n",
       "      <td id=\"T_2f3e7_row8_col0\" class=\"data row8 col0\" >09-2004</td>\n",
       "      <td id=\"T_2f3e7_row8_col1\" class=\"data row8 col1\" >10</td>\n",
       "      <td id=\"T_2f3e7_row8_col2\" class=\"data row8 col2\" >17</td>\n",
       "      <td id=\"T_2f3e7_row8_col3\" class=\"data row8 col3\" >4</td>\n",
       "      <td id=\"T_2f3e7_row8_col4\" class=\"data row8 col4\" >1</td>\n",
       "    </tr>\n",
       "    <tr>\n",
       "      <th id=\"T_2f3e7_level0_row9\" class=\"row_heading level0 row9\" >9</th>\n",
       "      <td id=\"T_2f3e7_row9_col0\" class=\"data row9 col0\" >10-2004</td>\n",
       "      <td id=\"T_2f3e7_row9_col1\" class=\"data row9 col1\" >8</td>\n",
       "      <td id=\"T_2f3e7_row9_col2\" class=\"data row9 col2\" >17</td>\n",
       "      <td id=\"T_2f3e7_row9_col3\" class=\"data row9 col3\" >4</td>\n",
       "      <td id=\"T_2f3e7_row9_col4\" class=\"data row9 col4\" >1</td>\n",
       "    </tr>\n",
       "    <tr>\n",
       "      <th id=\"T_2f3e7_level0_row10\" class=\"row_heading level0 row10\" >10</th>\n",
       "      <td id=\"T_2f3e7_row10_col0\" class=\"data row10 col0\" >11-2004</td>\n",
       "      <td id=\"T_2f3e7_row10_col1\" class=\"data row10 col1\" >8</td>\n",
       "      <td id=\"T_2f3e7_row10_col2\" class=\"data row10 col2\" >15</td>\n",
       "      <td id=\"T_2f3e7_row10_col3\" class=\"data row10 col3\" >2</td>\n",
       "      <td id=\"T_2f3e7_row10_col4\" class=\"data row10 col4\" >1</td>\n",
       "    </tr>\n",
       "    <tr>\n",
       "      <th id=\"T_2f3e7_level0_row11\" class=\"row_heading level0 row11\" >11</th>\n",
       "      <td id=\"T_2f3e7_row11_col0\" class=\"data row11 col0\" >12-2004</td>\n",
       "      <td id=\"T_2f3e7_row11_col1\" class=\"data row11 col1\" >8</td>\n",
       "      <td id=\"T_2f3e7_row11_col2\" class=\"data row11 col2\" >16</td>\n",
       "      <td id=\"T_2f3e7_row11_col3\" class=\"data row11 col3\" >2</td>\n",
       "      <td id=\"T_2f3e7_row11_col4\" class=\"data row11 col4\" >1</td>\n",
       "    </tr>\n",
       "    <tr>\n",
       "      <th id=\"T_2f3e7_level0_row12\" class=\"row_heading level0 row12\" >12</th>\n",
       "      <td id=\"T_2f3e7_row12_col0\" class=\"data row12 col0\" >01-2005</td>\n",
       "      <td id=\"T_2f3e7_row12_col1\" class=\"data row12 col1\" >10</td>\n",
       "      <td id=\"T_2f3e7_row12_col2\" class=\"data row12 col2\" >16</td>\n",
       "      <td id=\"T_2f3e7_row12_col3\" class=\"data row12 col3\" >2</td>\n",
       "      <td id=\"T_2f3e7_row12_col4\" class=\"data row12 col4\" >0</td>\n",
       "    </tr>\n",
       "    <tr>\n",
       "      <th id=\"T_2f3e7_level0_row13\" class=\"row_heading level0 row13\" >13</th>\n",
       "      <td id=\"T_2f3e7_row13_col0\" class=\"data row13 col0\" >02-2005</td>\n",
       "      <td id=\"T_2f3e7_row13_col1\" class=\"data row13 col1\" >9</td>\n",
       "      <td id=\"T_2f3e7_row13_col2\" class=\"data row13 col2\" >14</td>\n",
       "      <td id=\"T_2f3e7_row13_col3\" class=\"data row13 col3\" >3</td>\n",
       "      <td id=\"T_2f3e7_row13_col4\" class=\"data row13 col4\" >0</td>\n",
       "    </tr>\n",
       "    <tr>\n",
       "      <th id=\"T_2f3e7_level0_row14\" class=\"row_heading level0 row14\" >14</th>\n",
       "      <td id=\"T_2f3e7_row14_col0\" class=\"data row14 col0\" >03-2005</td>\n",
       "      <td id=\"T_2f3e7_row14_col1\" class=\"data row14 col1\" >8</td>\n",
       "      <td id=\"T_2f3e7_row14_col2\" class=\"data row14 col2\" >13</td>\n",
       "      <td id=\"T_2f3e7_row14_col3\" class=\"data row14 col3\" >2</td>\n",
       "      <td id=\"T_2f3e7_row14_col4\" class=\"data row14 col4\" >0</td>\n",
       "    </tr>\n",
       "    <tr>\n",
       "      <th id=\"T_2f3e7_level0_row15\" class=\"row_heading level0 row15\" >15</th>\n",
       "      <td id=\"T_2f3e7_row15_col0\" class=\"data row15 col0\" >04-2005</td>\n",
       "      <td id=\"T_2f3e7_row15_col1\" class=\"data row15 col1\" >8</td>\n",
       "      <td id=\"T_2f3e7_row15_col2\" class=\"data row15 col2\" >12</td>\n",
       "      <td id=\"T_2f3e7_row15_col3\" class=\"data row15 col3\" >3</td>\n",
       "      <td id=\"T_2f3e7_row15_col4\" class=\"data row15 col4\" >0</td>\n",
       "    </tr>\n",
       "    <tr>\n",
       "      <th id=\"T_2f3e7_level0_row16\" class=\"row_heading level0 row16\" >16</th>\n",
       "      <td id=\"T_2f3e7_row16_col0\" class=\"data row16 col0\" >05-2005</td>\n",
       "      <td id=\"T_2f3e7_row16_col1\" class=\"data row16 col1\" >8</td>\n",
       "      <td id=\"T_2f3e7_row16_col2\" class=\"data row16 col2\" >15</td>\n",
       "      <td id=\"T_2f3e7_row16_col3\" class=\"data row16 col3\" >3</td>\n",
       "      <td id=\"T_2f3e7_row16_col4\" class=\"data row16 col4\" >0</td>\n",
       "    </tr>\n",
       "    <tr>\n",
       "      <th id=\"T_2f3e7_level0_row17\" class=\"row_heading level0 row17\" >17</th>\n",
       "      <td id=\"T_2f3e7_row17_col0\" class=\"data row17 col0\" >06-2005</td>\n",
       "      <td id=\"T_2f3e7_row17_col1\" class=\"data row17 col1\" >8</td>\n",
       "      <td id=\"T_2f3e7_row17_col2\" class=\"data row17 col2\" >12</td>\n",
       "      <td id=\"T_2f3e7_row17_col3\" class=\"data row17 col3\" >3</td>\n",
       "      <td id=\"T_2f3e7_row17_col4\" class=\"data row17 col4\" >0</td>\n",
       "    </tr>\n",
       "    <tr>\n",
       "      <th id=\"T_2f3e7_level0_row18\" class=\"row_heading level0 row18\" >18</th>\n",
       "      <td id=\"T_2f3e7_row18_col0\" class=\"data row18 col0\" >07-2005</td>\n",
       "      <td id=\"T_2f3e7_row18_col1\" class=\"data row18 col1\" >6</td>\n",
       "      <td id=\"T_2f3e7_row18_col2\" class=\"data row18 col2\" >11</td>\n",
       "      <td id=\"T_2f3e7_row18_col3\" class=\"data row18 col3\" >2</td>\n",
       "      <td id=\"T_2f3e7_row18_col4\" class=\"data row18 col4\" >0</td>\n",
       "    </tr>\n",
       "    <tr>\n",
       "      <th id=\"T_2f3e7_level0_row19\" class=\"row_heading level0 row19\" >19</th>\n",
       "      <td id=\"T_2f3e7_row19_col0\" class=\"data row19 col0\" >08-2005</td>\n",
       "      <td id=\"T_2f3e7_row19_col1\" class=\"data row19 col1\" >9</td>\n",
       "      <td id=\"T_2f3e7_row19_col2\" class=\"data row19 col2\" >10</td>\n",
       "      <td id=\"T_2f3e7_row19_col3\" class=\"data row19 col3\" >2</td>\n",
       "      <td id=\"T_2f3e7_row19_col4\" class=\"data row19 col4\" >0</td>\n",
       "    </tr>\n",
       "  </tbody>\n",
       "</table>\n"
      ],
      "text/plain": [
       "<pandas.io.formats.style.Styler at 0x1b5c46e5cf0>"
      ]
     },
     "execution_count": 32,
     "metadata": {},
     "output_type": "execute_result"
    }
   ],
   "source": [
    "df.head(20).style.format(format_dict).background_gradient(subset=['data science','machine learning','deep learning'], cmap='gist_earth').highlight_max(color='red')"
   ]
  },
  {
   "cell_type": "code",
   "execution_count": 33,
   "id": "827842d5",
   "metadata": {},
   "outputs": [
    {
     "data": {
      "text/html": [
       "<style type=\"text/css\">\n",
       "#T_c7ce9_row0_col0, #T_c7ce9_row12_col4, #T_c7ce9_row13_col4, #T_c7ce9_row14_col4, #T_c7ce9_row15_col4, #T_c7ce9_row16_col4, #T_c7ce9_row17_col4, #T_c7ce9_row18_col4, #T_c7ce9_row19_col4 {\n",
       "  background-color: blue;\n",
       "}\n",
       "#T_c7ce9_row0_col1, #T_c7ce9_row0_col3, #T_c7ce9_row1_col1, #T_c7ce9_row1_col2, #T_c7ce9_row2_col2, #T_c7ce9_row3_col3, #T_c7ce9_row8_col3, #T_c7ce9_row9_col3 {\n",
       "  width: 10em;\n",
       "  background: linear-gradient(90deg, #fdfbfb 100.0%, transparent 100.0%);\n",
       "}\n",
       "#T_c7ce9_row0_col2 {\n",
       "  width: 10em;\n",
       "  background: linear-gradient(90deg, #d5b194 85.7%, transparent 85.7%);\n",
       "}\n",
       "#T_c7ce9_row1_col3, #T_c7ce9_row2_col3, #T_c7ce9_row10_col3, #T_c7ce9_row11_col3, #T_c7ce9_row12_col3, #T_c7ce9_row14_col3, #T_c7ce9_row18_col1, #T_c7ce9_row18_col3, #T_c7ce9_row19_col3 {\n",
       "  width: 10em;\n",
       "  background: linear-gradient(90deg, #5ea04b 50.0%, transparent 50.0%);\n",
       "  background-color: blue;\n",
       "}\n",
       "#T_c7ce9_row2_col1, #T_c7ce9_row4_col3, #T_c7ce9_row5_col1, #T_c7ce9_row5_col3, #T_c7ce9_row6_col1, #T_c7ce9_row6_col3, #T_c7ce9_row7_col3, #T_c7ce9_row13_col1, #T_c7ce9_row13_col3, #T_c7ce9_row15_col3, #T_c7ce9_row16_col3, #T_c7ce9_row17_col3, #T_c7ce9_row19_col1 {\n",
       "  width: 10em;\n",
       "  background: linear-gradient(90deg, #bdab62 75.0%, transparent 75.0%);\n",
       "}\n",
       "#T_c7ce9_row3_col1, #T_c7ce9_row8_col1, #T_c7ce9_row12_col1 {\n",
       "  width: 10em;\n",
       "  background: linear-gradient(90deg, #ceab85 83.3%, transparent 83.3%);\n",
       "}\n",
       "#T_c7ce9_row3_col2, #T_c7ce9_row6_col2, #T_c7ce9_row11_col2, #T_c7ce9_row12_col2 {\n",
       "  width: 10em;\n",
       "  background: linear-gradient(90deg, #bea863 76.2%, transparent 76.2%);\n",
       "}\n",
       "#T_c7ce9_row4_col1, #T_c7ce9_row7_col1 {\n",
       "  width: 10em;\n",
       "  background: linear-gradient(90deg, #87aa55 58.3%, transparent 58.3%);\n",
       "}\n",
       "#T_c7ce9_row4_col2, #T_c7ce9_row7_col2, #T_c7ce9_row9_col1, #T_c7ce9_row10_col1, #T_c7ce9_row11_col1, #T_c7ce9_row13_col2, #T_c7ce9_row14_col1, #T_c7ce9_row15_col1, #T_c7ce9_row16_col1, #T_c7ce9_row17_col1 {\n",
       "  width: 10em;\n",
       "  background: linear-gradient(90deg, #aab35c 66.7%, transparent 66.7%);\n",
       "}\n",
       "#T_c7ce9_row5_col2, #T_c7ce9_row8_col2, #T_c7ce9_row9_col2 {\n",
       "  width: 10em;\n",
       "  background: linear-gradient(90deg, #c7a676 81.0%, transparent 81.0%);\n",
       "}\n",
       "#T_c7ce9_row10_col2, #T_c7ce9_row16_col2 {\n",
       "  width: 10em;\n",
       "  background: linear-gradient(90deg, #b9b35f 71.4%, transparent 71.4%);\n",
       "}\n",
       "#T_c7ce9_row14_col2 {\n",
       "  width: 10em;\n",
       "  background: linear-gradient(90deg, #96ae58 61.9%, transparent 61.9%);\n",
       "}\n",
       "#T_c7ce9_row15_col2, #T_c7ce9_row17_col2 {\n",
       "  width: 10em;\n",
       "  background: linear-gradient(90deg, #82a954 57.1%, transparent 57.1%);\n",
       "}\n",
       "#T_c7ce9_row18_col2 {\n",
       "  width: 10em;\n",
       "  background: linear-gradient(90deg, #6ba44f 52.4%, transparent 52.4%);\n",
       "}\n",
       "#T_c7ce9_row19_col2 {\n",
       "  width: 10em;\n",
       "  background: linear-gradient(90deg, #4e9c47 47.6%, transparent 47.6%);\n",
       "  background-color: blue;\n",
       "}\n",
       "</style>\n",
       "<table id=\"T_c7ce9\">\n",
       "  <thead>\n",
       "    <tr>\n",
       "      <th class=\"blank level0\" >&nbsp;</th>\n",
       "      <th id=\"T_c7ce9_level0_col0\" class=\"col_heading level0 col0\" >Mes</th>\n",
       "      <th id=\"T_c7ce9_level0_col1\" class=\"col_heading level0 col1\" >data science</th>\n",
       "      <th id=\"T_c7ce9_level0_col2\" class=\"col_heading level0 col2\" >machine learning</th>\n",
       "      <th id=\"T_c7ce9_level0_col3\" class=\"col_heading level0 col3\" >deep learning</th>\n",
       "      <th id=\"T_c7ce9_level0_col4\" class=\"col_heading level0 col4\" >categorical</th>\n",
       "    </tr>\n",
       "  </thead>\n",
       "  <tbody>\n",
       "    <tr>\n",
       "      <th id=\"T_c7ce9_level0_row0\" class=\"row_heading level0 row0\" >0</th>\n",
       "      <td id=\"T_c7ce9_row0_col0\" class=\"data row0 col0\" >01-2004</td>\n",
       "      <td id=\"T_c7ce9_row0_col1\" class=\"data row0 col1\" >12</td>\n",
       "      <td id=\"T_c7ce9_row0_col2\" class=\"data row0 col2\" >18</td>\n",
       "      <td id=\"T_c7ce9_row0_col3\" class=\"data row0 col3\" >4</td>\n",
       "      <td id=\"T_c7ce9_row0_col4\" class=\"data row0 col4\" >1</td>\n",
       "    </tr>\n",
       "    <tr>\n",
       "      <th id=\"T_c7ce9_level0_row1\" class=\"row_heading level0 row1\" >1</th>\n",
       "      <td id=\"T_c7ce9_row1_col0\" class=\"data row1 col0\" >02-2004</td>\n",
       "      <td id=\"T_c7ce9_row1_col1\" class=\"data row1 col1\" >12</td>\n",
       "      <td id=\"T_c7ce9_row1_col2\" class=\"data row1 col2\" >21</td>\n",
       "      <td id=\"T_c7ce9_row1_col3\" class=\"data row1 col3\" >2</td>\n",
       "      <td id=\"T_c7ce9_row1_col4\" class=\"data row1 col4\" >1</td>\n",
       "    </tr>\n",
       "    <tr>\n",
       "      <th id=\"T_c7ce9_level0_row2\" class=\"row_heading level0 row2\" >2</th>\n",
       "      <td id=\"T_c7ce9_row2_col0\" class=\"data row2 col0\" >03-2004</td>\n",
       "      <td id=\"T_c7ce9_row2_col1\" class=\"data row2 col1\" >9</td>\n",
       "      <td id=\"T_c7ce9_row2_col2\" class=\"data row2 col2\" >21</td>\n",
       "      <td id=\"T_c7ce9_row2_col3\" class=\"data row2 col3\" >2</td>\n",
       "      <td id=\"T_c7ce9_row2_col4\" class=\"data row2 col4\" >1</td>\n",
       "    </tr>\n",
       "    <tr>\n",
       "      <th id=\"T_c7ce9_level0_row3\" class=\"row_heading level0 row3\" >3</th>\n",
       "      <td id=\"T_c7ce9_row3_col0\" class=\"data row3 col0\" >04-2004</td>\n",
       "      <td id=\"T_c7ce9_row3_col1\" class=\"data row3 col1\" >10</td>\n",
       "      <td id=\"T_c7ce9_row3_col2\" class=\"data row3 col2\" >16</td>\n",
       "      <td id=\"T_c7ce9_row3_col3\" class=\"data row3 col3\" >4</td>\n",
       "      <td id=\"T_c7ce9_row3_col4\" class=\"data row3 col4\" >1</td>\n",
       "    </tr>\n",
       "    <tr>\n",
       "      <th id=\"T_c7ce9_level0_row4\" class=\"row_heading level0 row4\" >4</th>\n",
       "      <td id=\"T_c7ce9_row4_col0\" class=\"data row4 col0\" >05-2004</td>\n",
       "      <td id=\"T_c7ce9_row4_col1\" class=\"data row4 col1\" >7</td>\n",
       "      <td id=\"T_c7ce9_row4_col2\" class=\"data row4 col2\" >14</td>\n",
       "      <td id=\"T_c7ce9_row4_col3\" class=\"data row4 col3\" >3</td>\n",
       "      <td id=\"T_c7ce9_row4_col4\" class=\"data row4 col4\" >1</td>\n",
       "    </tr>\n",
       "    <tr>\n",
       "      <th id=\"T_c7ce9_level0_row5\" class=\"row_heading level0 row5\" >5</th>\n",
       "      <td id=\"T_c7ce9_row5_col0\" class=\"data row5 col0\" >06-2004</td>\n",
       "      <td id=\"T_c7ce9_row5_col1\" class=\"data row5 col1\" >9</td>\n",
       "      <td id=\"T_c7ce9_row5_col2\" class=\"data row5 col2\" >17</td>\n",
       "      <td id=\"T_c7ce9_row5_col3\" class=\"data row5 col3\" >3</td>\n",
       "      <td id=\"T_c7ce9_row5_col4\" class=\"data row5 col4\" >1</td>\n",
       "    </tr>\n",
       "    <tr>\n",
       "      <th id=\"T_c7ce9_level0_row6\" class=\"row_heading level0 row6\" >6</th>\n",
       "      <td id=\"T_c7ce9_row6_col0\" class=\"data row6 col0\" >07-2004</td>\n",
       "      <td id=\"T_c7ce9_row6_col1\" class=\"data row6 col1\" >9</td>\n",
       "      <td id=\"T_c7ce9_row6_col2\" class=\"data row6 col2\" >16</td>\n",
       "      <td id=\"T_c7ce9_row6_col3\" class=\"data row6 col3\" >3</td>\n",
       "      <td id=\"T_c7ce9_row6_col4\" class=\"data row6 col4\" >1</td>\n",
       "    </tr>\n",
       "    <tr>\n",
       "      <th id=\"T_c7ce9_level0_row7\" class=\"row_heading level0 row7\" >7</th>\n",
       "      <td id=\"T_c7ce9_row7_col0\" class=\"data row7 col0\" >08-2004</td>\n",
       "      <td id=\"T_c7ce9_row7_col1\" class=\"data row7 col1\" >7</td>\n",
       "      <td id=\"T_c7ce9_row7_col2\" class=\"data row7 col2\" >14</td>\n",
       "      <td id=\"T_c7ce9_row7_col3\" class=\"data row7 col3\" >3</td>\n",
       "      <td id=\"T_c7ce9_row7_col4\" class=\"data row7 col4\" >1</td>\n",
       "    </tr>\n",
       "    <tr>\n",
       "      <th id=\"T_c7ce9_level0_row8\" class=\"row_heading level0 row8\" >8</th>\n",
       "      <td id=\"T_c7ce9_row8_col0\" class=\"data row8 col0\" >09-2004</td>\n",
       "      <td id=\"T_c7ce9_row8_col1\" class=\"data row8 col1\" >10</td>\n",
       "      <td id=\"T_c7ce9_row8_col2\" class=\"data row8 col2\" >17</td>\n",
       "      <td id=\"T_c7ce9_row8_col3\" class=\"data row8 col3\" >4</td>\n",
       "      <td id=\"T_c7ce9_row8_col4\" class=\"data row8 col4\" >1</td>\n",
       "    </tr>\n",
       "    <tr>\n",
       "      <th id=\"T_c7ce9_level0_row9\" class=\"row_heading level0 row9\" >9</th>\n",
       "      <td id=\"T_c7ce9_row9_col0\" class=\"data row9 col0\" >10-2004</td>\n",
       "      <td id=\"T_c7ce9_row9_col1\" class=\"data row9 col1\" >8</td>\n",
       "      <td id=\"T_c7ce9_row9_col2\" class=\"data row9 col2\" >17</td>\n",
       "      <td id=\"T_c7ce9_row9_col3\" class=\"data row9 col3\" >4</td>\n",
       "      <td id=\"T_c7ce9_row9_col4\" class=\"data row9 col4\" >1</td>\n",
       "    </tr>\n",
       "    <tr>\n",
       "      <th id=\"T_c7ce9_level0_row10\" class=\"row_heading level0 row10\" >10</th>\n",
       "      <td id=\"T_c7ce9_row10_col0\" class=\"data row10 col0\" >11-2004</td>\n",
       "      <td id=\"T_c7ce9_row10_col1\" class=\"data row10 col1\" >8</td>\n",
       "      <td id=\"T_c7ce9_row10_col2\" class=\"data row10 col2\" >15</td>\n",
       "      <td id=\"T_c7ce9_row10_col3\" class=\"data row10 col3\" >2</td>\n",
       "      <td id=\"T_c7ce9_row10_col4\" class=\"data row10 col4\" >1</td>\n",
       "    </tr>\n",
       "    <tr>\n",
       "      <th id=\"T_c7ce9_level0_row11\" class=\"row_heading level0 row11\" >11</th>\n",
       "      <td id=\"T_c7ce9_row11_col0\" class=\"data row11 col0\" >12-2004</td>\n",
       "      <td id=\"T_c7ce9_row11_col1\" class=\"data row11 col1\" >8</td>\n",
       "      <td id=\"T_c7ce9_row11_col2\" class=\"data row11 col2\" >16</td>\n",
       "      <td id=\"T_c7ce9_row11_col3\" class=\"data row11 col3\" >2</td>\n",
       "      <td id=\"T_c7ce9_row11_col4\" class=\"data row11 col4\" >1</td>\n",
       "    </tr>\n",
       "    <tr>\n",
       "      <th id=\"T_c7ce9_level0_row12\" class=\"row_heading level0 row12\" >12</th>\n",
       "      <td id=\"T_c7ce9_row12_col0\" class=\"data row12 col0\" >01-2005</td>\n",
       "      <td id=\"T_c7ce9_row12_col1\" class=\"data row12 col1\" >10</td>\n",
       "      <td id=\"T_c7ce9_row12_col2\" class=\"data row12 col2\" >16</td>\n",
       "      <td id=\"T_c7ce9_row12_col3\" class=\"data row12 col3\" >2</td>\n",
       "      <td id=\"T_c7ce9_row12_col4\" class=\"data row12 col4\" >0</td>\n",
       "    </tr>\n",
       "    <tr>\n",
       "      <th id=\"T_c7ce9_level0_row13\" class=\"row_heading level0 row13\" >13</th>\n",
       "      <td id=\"T_c7ce9_row13_col0\" class=\"data row13 col0\" >02-2005</td>\n",
       "      <td id=\"T_c7ce9_row13_col1\" class=\"data row13 col1\" >9</td>\n",
       "      <td id=\"T_c7ce9_row13_col2\" class=\"data row13 col2\" >14</td>\n",
       "      <td id=\"T_c7ce9_row13_col3\" class=\"data row13 col3\" >3</td>\n",
       "      <td id=\"T_c7ce9_row13_col4\" class=\"data row13 col4\" >0</td>\n",
       "    </tr>\n",
       "    <tr>\n",
       "      <th id=\"T_c7ce9_level0_row14\" class=\"row_heading level0 row14\" >14</th>\n",
       "      <td id=\"T_c7ce9_row14_col0\" class=\"data row14 col0\" >03-2005</td>\n",
       "      <td id=\"T_c7ce9_row14_col1\" class=\"data row14 col1\" >8</td>\n",
       "      <td id=\"T_c7ce9_row14_col2\" class=\"data row14 col2\" >13</td>\n",
       "      <td id=\"T_c7ce9_row14_col3\" class=\"data row14 col3\" >2</td>\n",
       "      <td id=\"T_c7ce9_row14_col4\" class=\"data row14 col4\" >0</td>\n",
       "    </tr>\n",
       "    <tr>\n",
       "      <th id=\"T_c7ce9_level0_row15\" class=\"row_heading level0 row15\" >15</th>\n",
       "      <td id=\"T_c7ce9_row15_col0\" class=\"data row15 col0\" >04-2005</td>\n",
       "      <td id=\"T_c7ce9_row15_col1\" class=\"data row15 col1\" >8</td>\n",
       "      <td id=\"T_c7ce9_row15_col2\" class=\"data row15 col2\" >12</td>\n",
       "      <td id=\"T_c7ce9_row15_col3\" class=\"data row15 col3\" >3</td>\n",
       "      <td id=\"T_c7ce9_row15_col4\" class=\"data row15 col4\" >0</td>\n",
       "    </tr>\n",
       "    <tr>\n",
       "      <th id=\"T_c7ce9_level0_row16\" class=\"row_heading level0 row16\" >16</th>\n",
       "      <td id=\"T_c7ce9_row16_col0\" class=\"data row16 col0\" >05-2005</td>\n",
       "      <td id=\"T_c7ce9_row16_col1\" class=\"data row16 col1\" >8</td>\n",
       "      <td id=\"T_c7ce9_row16_col2\" class=\"data row16 col2\" >15</td>\n",
       "      <td id=\"T_c7ce9_row16_col3\" class=\"data row16 col3\" >3</td>\n",
       "      <td id=\"T_c7ce9_row16_col4\" class=\"data row16 col4\" >0</td>\n",
       "    </tr>\n",
       "    <tr>\n",
       "      <th id=\"T_c7ce9_level0_row17\" class=\"row_heading level0 row17\" >17</th>\n",
       "      <td id=\"T_c7ce9_row17_col0\" class=\"data row17 col0\" >06-2005</td>\n",
       "      <td id=\"T_c7ce9_row17_col1\" class=\"data row17 col1\" >8</td>\n",
       "      <td id=\"T_c7ce9_row17_col2\" class=\"data row17 col2\" >12</td>\n",
       "      <td id=\"T_c7ce9_row17_col3\" class=\"data row17 col3\" >3</td>\n",
       "      <td id=\"T_c7ce9_row17_col4\" class=\"data row17 col4\" >0</td>\n",
       "    </tr>\n",
       "    <tr>\n",
       "      <th id=\"T_c7ce9_level0_row18\" class=\"row_heading level0 row18\" >18</th>\n",
       "      <td id=\"T_c7ce9_row18_col0\" class=\"data row18 col0\" >07-2005</td>\n",
       "      <td id=\"T_c7ce9_row18_col1\" class=\"data row18 col1\" >6</td>\n",
       "      <td id=\"T_c7ce9_row18_col2\" class=\"data row18 col2\" >11</td>\n",
       "      <td id=\"T_c7ce9_row18_col3\" class=\"data row18 col3\" >2</td>\n",
       "      <td id=\"T_c7ce9_row18_col4\" class=\"data row18 col4\" >0</td>\n",
       "    </tr>\n",
       "    <tr>\n",
       "      <th id=\"T_c7ce9_level0_row19\" class=\"row_heading level0 row19\" >19</th>\n",
       "      <td id=\"T_c7ce9_row19_col0\" class=\"data row19 col0\" >08-2005</td>\n",
       "      <td id=\"T_c7ce9_row19_col1\" class=\"data row19 col1\" >9</td>\n",
       "      <td id=\"T_c7ce9_row19_col2\" class=\"data row19 col2\" >10</td>\n",
       "      <td id=\"T_c7ce9_row19_col3\" class=\"data row19 col3\" >2</td>\n",
       "      <td id=\"T_c7ce9_row19_col4\" class=\"data row19 col4\" >0</td>\n",
       "    </tr>\n",
       "  </tbody>\n",
       "</table>\n"
      ],
      "text/plain": [
       "<pandas.io.formats.style.Styler at 0x1b5c46e53f0>"
      ]
     },
     "execution_count": 33,
     "metadata": {},
     "output_type": "execute_result"
    }
   ],
   "source": [
    "df.head(20).style.format(format_dict).bar(cmap='gist_earth', subset=['data science','machine learning','deep learning']).highlight_min(color='blue')"
   ]
  },
  {
   "cell_type": "code",
   "execution_count": 34,
   "id": "85bddfc6",
   "metadata": {},
   "outputs": [
    {
     "name": "stdout",
     "output_type": "stream",
     "text": [
      "Requirement already satisfied: pandas_profiling in c:\\users\\user\\anaconda3\\envs\\hamoye\\lib\\site-packages (3.2.0)\n",
      "Requirement already satisfied: htmlmin>=0.1.12 in c:\\users\\user\\anaconda3\\envs\\hamoye\\lib\\site-packages (from pandas_profiling) (0.1.12)\n",
      "Requirement already satisfied: markupsafe~=2.1.1 in c:\\users\\user\\anaconda3\\envs\\hamoye\\lib\\site-packages (from pandas_profiling) (2.1.1)\n",
      "Requirement already satisfied: phik>=0.11.1 in c:\\users\\user\\anaconda3\\envs\\hamoye\\lib\\site-packages (from pandas_profiling) (0.12.2)\n",
      "Requirement already satisfied: tqdm>=4.48.2 in c:\\users\\user\\anaconda3\\envs\\hamoye\\lib\\site-packages (from pandas_profiling) (4.64.0)\n",
      "Requirement already satisfied: numpy>=1.16.0 in c:\\users\\user\\anaconda3\\envs\\hamoye\\lib\\site-packages (from pandas_profiling) (1.22.3)\n",
      "Requirement already satisfied: multimethod>=1.4 in c:\\users\\user\\anaconda3\\envs\\hamoye\\lib\\site-packages (from pandas_profiling) (1.8)\n",
      "Requirement already satisfied: visions[type_image_path]==0.7.4 in c:\\users\\user\\anaconda3\\envs\\hamoye\\lib\\site-packages (from pandas_profiling) (0.7.4)\n",
      "Requirement already satisfied: PyYAML>=5.0.0 in c:\\users\\user\\anaconda3\\envs\\hamoye\\lib\\site-packages (from pandas_profiling) (6.0)\n",
      "Requirement already satisfied: pydantic>=1.8.1 in c:\\users\\user\\anaconda3\\envs\\hamoye\\lib\\site-packages (from pandas_profiling) (1.9.2)\n",
      "Requirement already satisfied: missingno>=0.4.2 in c:\\users\\user\\anaconda3\\envs\\hamoye\\lib\\site-packages (from pandas_profiling) (0.5.1)\n",
      "Requirement already satisfied: requests>=2.24.0 in c:\\users\\user\\anaconda3\\envs\\hamoye\\lib\\site-packages (from pandas_profiling) (2.28.1)\n",
      "Requirement already satisfied: seaborn>=0.10.1 in c:\\users\\user\\anaconda3\\envs\\hamoye\\lib\\site-packages (from pandas_profiling) (0.11.2)\n",
      "Requirement already satisfied: jinja2>=2.11.1 in c:\\users\\user\\anaconda3\\envs\\hamoye\\lib\\site-packages (from pandas_profiling) (3.0.3)\n",
      "Requirement already satisfied: matplotlib>=3.2.0 in c:\\users\\user\\anaconda3\\envs\\hamoye\\lib\\site-packages (from pandas_profiling) (3.5.1)\n",
      "Requirement already satisfied: tangled-up-in-unicode==0.2.0 in c:\\users\\user\\anaconda3\\envs\\hamoye\\lib\\site-packages (from pandas_profiling) (0.2.0)\n",
      "Requirement already satisfied: pandas!=1.0.0,!=1.0.1,!=1.0.2,!=1.1.0,>=0.25.3 in c:\\users\\user\\anaconda3\\envs\\hamoye\\lib\\site-packages (from pandas_profiling) (1.4.3)\n",
      "Requirement already satisfied: scipy>=1.4.1 in c:\\users\\user\\anaconda3\\envs\\hamoye\\lib\\site-packages (from pandas_profiling) (1.7.3)\n",
      "Requirement already satisfied: joblib~=1.1.0 in c:\\users\\user\\anaconda3\\envs\\hamoye\\lib\\site-packages (from pandas_profiling) (1.1.0)\n",
      "Requirement already satisfied: networkx>=2.4 in c:\\users\\user\\anaconda3\\envs\\hamoye\\lib\\site-packages (from visions[type_image_path]==0.7.4->pandas_profiling) (2.8.5)\n",
      "Requirement already satisfied: attrs>=19.3.0 in c:\\users\\user\\anaconda3\\envs\\hamoye\\lib\\site-packages (from visions[type_image_path]==0.7.4->pandas_profiling) (21.4.0)\n",
      "Requirement already satisfied: Pillow in c:\\users\\user\\anaconda3\\envs\\hamoye\\lib\\site-packages (from visions[type_image_path]==0.7.4->pandas_profiling) (9.2.0)\n",
      "Requirement already satisfied: imagehash in c:\\users\\user\\anaconda3\\envs\\hamoye\\lib\\site-packages (from visions[type_image_path]==0.7.4->pandas_profiling) (4.2.1)\n",
      "Requirement already satisfied: kiwisolver>=1.0.1 in c:\\users\\user\\anaconda3\\envs\\hamoye\\lib\\site-packages (from matplotlib>=3.2.0->pandas_profiling) (1.4.2)\n",
      "Requirement already satisfied: fonttools>=4.22.0 in c:\\users\\user\\anaconda3\\envs\\hamoye\\lib\\site-packages (from matplotlib>=3.2.0->pandas_profiling) (4.25.0)\n",
      "Requirement already satisfied: python-dateutil>=2.7 in c:\\users\\user\\anaconda3\\envs\\hamoye\\lib\\site-packages (from matplotlib>=3.2.0->pandas_profiling) (2.8.2)\n",
      "Requirement already satisfied: pyparsing>=2.2.1 in c:\\users\\user\\anaconda3\\envs\\hamoye\\lib\\site-packages (from matplotlib>=3.2.0->pandas_profiling) (3.0.4)\n",
      "Requirement already satisfied: packaging>=20.0 in c:\\users\\user\\anaconda3\\envs\\hamoye\\lib\\site-packages (from matplotlib>=3.2.0->pandas_profiling) (21.3)\n",
      "Requirement already satisfied: cycler>=0.10 in c:\\users\\user\\anaconda3\\envs\\hamoye\\lib\\site-packages (from matplotlib>=3.2.0->pandas_profiling) (0.11.0)\n",
      "Requirement already satisfied: pytz>=2020.1 in c:\\users\\user\\anaconda3\\envs\\hamoye\\lib\\site-packages (from pandas!=1.0.0,!=1.0.1,!=1.0.2,!=1.1.0,>=0.25.3->pandas_profiling) (2022.1)\n",
      "Requirement already satisfied: typing-extensions>=3.7.4.3 in c:\\users\\user\\anaconda3\\envs\\hamoye\\lib\\site-packages (from pydantic>=1.8.1->pandas_profiling) (4.1.1)\n",
      "Requirement already satisfied: charset-normalizer<3,>=2 in c:\\users\\user\\anaconda3\\envs\\hamoye\\lib\\site-packages (from requests>=2.24.0->pandas_profiling) (2.1.0)\n",
      "Requirement already satisfied: urllib3<1.27,>=1.21.1 in c:\\users\\user\\anaconda3\\envs\\hamoye\\lib\\site-packages (from requests>=2.24.0->pandas_profiling) (1.26.11)\n",
      "Requirement already satisfied: idna<4,>=2.5 in c:\\users\\user\\anaconda3\\envs\\hamoye\\lib\\site-packages (from requests>=2.24.0->pandas_profiling) (3.3)\n",
      "Requirement already satisfied: certifi>=2017.4.17 in c:\\users\\user\\anaconda3\\envs\\hamoye\\lib\\site-packages (from requests>=2.24.0->pandas_profiling) (2022.6.15)\n",
      "Requirement already satisfied: colorama in c:\\users\\user\\anaconda3\\envs\\hamoye\\lib\\site-packages (from tqdm>=4.48.2->pandas_profiling) (0.4.5)\n",
      "Requirement already satisfied: six>=1.5 in c:\\users\\user\\anaconda3\\envs\\hamoye\\lib\\site-packages (from python-dateutil>=2.7->matplotlib>=3.2.0->pandas_profiling) (1.16.0)\n",
      "Requirement already satisfied: PyWavelets in c:\\users\\user\\anaconda3\\envs\\hamoye\\lib\\site-packages (from imagehash->visions[type_image_path]==0.7.4->pandas_profiling) (1.3.0)\n"
     ]
    }
   ],
   "source": [
    "!pip install pandas_profiling"
   ]
  },
  {
   "cell_type": "code",
   "execution_count": 35,
   "id": "1fdfb2dd",
   "metadata": {},
   "outputs": [],
   "source": [
    "import pandas as pd\n",
    "import pandas_profiling as pp"
   ]
  },
  {
   "cell_type": "code",
   "execution_count": null,
   "id": "ab177c72",
   "metadata": {},
   "outputs": [],
   "source": []
  },
  {
   "cell_type": "code",
   "execution_count": 36,
   "id": "fa5c1f07",
   "metadata": {},
   "outputs": [],
   "source": [
    "dct = {'ID':{0:23,1:43,2:12,3:13,\n",
    "            4:67,5:89,6:90,7:56,\n",
    "            8:34},\n",
    "       'Name':{0:'Ram',1:'Deep',2:'Yash',\n",
    "               3:'Aman',4:'Arjun',5:'Aditya',\n",
    "               6:'Divya',7:'Chalsea',\n",
    "               8:'Akash'},\n",
    "       'Marks':{0:89,1:97,2:45,3:78,\n",
    "                4:56,5:76,6:100,7:87,\n",
    "                8:81},\n",
    "       'Grade':{0:'B',1:'A',2:'F',3:'C',\n",
    "                4:'E',5:'C',6:'A',7:'B',\n",
    "                8:'B'}\n",
    "      }"
   ]
  },
  {
   "cell_type": "code",
   "execution_count": 37,
   "id": "75bf6688",
   "metadata": {
    "scrolled": true
   },
   "outputs": [
    {
     "name": "stdout",
     "output_type": "stream",
     "text": [
      "   ID     Name  Marks Grade\n",
      "0  23      Ram     89     B\n",
      "1  43     Deep     97     A\n",
      "2  12     Yash     45     F\n",
      "3  13     Aman     78     C\n",
      "4  67    Arjun     56     E\n",
      "5  89   Aditya     76     C\n",
      "6  90    Divya    100     A\n",
      "7  56  Chalsea     87     B\n",
      "8  34    Akash     81     B\n"
     ]
    }
   ],
   "source": [
    "data = pd.DataFrame(dct)\n",
    "print(data)"
   ]
  },
  {
   "cell_type": "code",
   "execution_count": 38,
   "id": "f5bc31c0",
   "metadata": {
    "scrolled": true
   },
   "outputs": [
    {
     "data": {
      "application/vnd.jupyter.widget-view+json": {
       "model_id": "360cf0dc438a4493852af29d28833e69",
       "version_major": 2,
       "version_minor": 0
      },
      "text/plain": [
       "Summarize dataset:   0%|          | 0/5 [00:00<?, ?it/s]"
      ]
     },
     "metadata": {},
     "output_type": "display_data"
    },
    {
     "data": {
      "application/vnd.jupyter.widget-view+json": {
       "model_id": "f2b9138ca6254f899a07e5503ba7b576",
       "version_major": 2,
       "version_minor": 0
      },
      "text/plain": [
       "Generate report structure:   0%|          | 0/1 [00:00<?, ?it/s]"
      ]
     },
     "metadata": {},
     "output_type": "display_data"
    },
    {
     "data": {
      "application/vnd.jupyter.widget-view+json": {
       "model_id": "7259ad33298b4d048ef17cab4814dd93",
       "version_major": 2,
       "version_minor": 0
      },
      "text/plain": [
       "Render HTML:   0%|          | 0/1 [00:00<?, ?it/s]"
      ]
     },
     "metadata": {},
     "output_type": "display_data"
    },
    {
     "data": {
      "application/vnd.jupyter.widget-view+json": {
       "model_id": "71b45f7fff2345d894c80b6dc9f16581",
       "version_major": 2,
       "version_minor": 0
      },
      "text/plain": [
       "Export report to file:   0%|          | 0/1 [00:00<?, ?it/s]"
      ]
     },
     "metadata": {},
     "output_type": "display_data"
    }
   ],
   "source": [
    "profile = pp.ProfileReport(data)\n",
    "profile.to_file(\"output.html\")"
   ]
  },
  {
   "cell_type": "code",
   "execution_count": 5,
   "id": "e76a1c61",
   "metadata": {},
   "outputs": [],
   "source": [
    "import matplotlib.pyplot as plt"
   ]
  },
  {
   "cell_type": "code",
   "execution_count": 7,
   "id": "a2c709aa",
   "metadata": {},
   "outputs": [
    {
     "data": {
      "text/plain": [
       "[<matplotlib.lines.Line2D at 0x26dbd4c6260>]"
      ]
     },
     "execution_count": 7,
     "metadata": {},
     "output_type": "execute_result"
    },
    {
     "data": {
      "image/png": "[encoded data removed]",
      "text/plain": [
       "<Figure size 432x288 with 1 Axes>"
      ]
     },
     "metadata": {
      "needs_background": "light"
     },
     "output_type": "display_data"
    }
   ],
   "source": [
    "plt.plot(df['Mes'], df['data science'], label='data science')"
   ]
  },
  {
   "cell_type": "code",
   "execution_count": 9,
   "id": "31d0ff8e",
   "metadata": {},
   "outputs": [
    {
     "data": {
      "text/plain": [
       "<matplotlib.legend.Legend at 0x26dbd8fd450>"
      ]
     },
     "execution_count": 9,
     "metadata": {},
     "output_type": "execute_result"
    },
    {
     "data": {
      "image/png": "[encoded data removed]",
      "text/plain": [
       "<Figure size 432x288 with 1 Axes>"
      ]
     },
     "metadata": {
      "needs_background": "light"
     },
     "output_type": "display_data"
    }
   ],
   "source": [
    "plt.plot(df['Mes'], df['data science'], label='data science')\n",
    "plt.plot(df['Mes'], df['machine learning'], label='machine learning')\n",
    "plt.plot(df['Mes'], df['deep learning'], label='deep learning')\n",
    "plt.xlabel('Date')\n",
    "plt.ylabel('Popularity')\n",
    "plt.title('Popularity of Ai terms by date')\n",
    "plt.grid(True)\n",
    "plt.legend()"
   ]
  },
  {
   "cell_type": "code",
   "execution_count": 42,
   "id": "e7583813",
   "metadata": {},
   "outputs": [
    {
     "data": {
      "text/plain": [
       "[<matplotlib.lines.Line2D at 0x1b5c1358520>]"
      ]
     },
     "execution_count": 42,
     "metadata": {},
     "output_type": "execute_result"
    },
    {
     "data": {
      "image/png": "[encoded data removed]",
      "text/plain": [
       "<Figure size 432x288 with 4 Axes>"
      ]
     },
     "metadata": {
      "needs_background": "light"
     },
     "output_type": "display_data"
    }
   ],
   "source": [
    "fig, axes = plt.subplots(2,2)\n",
    "axes[0, 0].hist(df['data science'])\n",
    "axes[0, 1].scatter(df['Mes'], df['data science'])\n",
    "axes[1,0].plot(df['Mes'], df['machine learning'])\n",
    "axes[1,1].plot(df['Mes'], df['deep learning'])\n"
   ]
  },
  {
   "cell_type": "code",
   "execution_count": 20,
   "id": "9b8f041c",
   "metadata": {},
   "outputs": [
    {
     "data": {
      "text/plain": [
       "[<matplotlib.lines.Line2D at 0x1b5c2052e60>]"
      ]
     },
     "execution_count": 20,
     "metadata": {},
     "output_type": "execute_result"
    },
    {
     "data": {
      "image/png": "[encoded data removed]",
      "text/plain": [
       "<Figure size 432x288 with 1 Axes>"
      ]
     },
     "metadata": {
      "needs_background": "light"
     },
     "output_type": "display_data"
    }
   ],
   "source": [
    "plt.plot(df['Mes'], df['data science'], 'r-')\n",
    "plt.plot(df['Mes'], df['machine learning']*2,'bs')\n",
    "plt.plot(df['Mes'], df['deep learning']*3,'g^')"
   ]
  },
  {
   "cell_type": "code",
   "execution_count": 21,
   "id": "543a5945",
   "metadata": {},
   "outputs": [
    {
     "data": {
      "text/plain": [
       "[<matplotlib.lines.Line2D at 0x1b5c4433340>]"
      ]
     },
     "execution_count": 21,
     "metadata": {},
     "output_type": "execute_result"
    },
    {
     "data": {
      "image/png": "[encoded data removed]",
      "text/plain": [
       "<Figure size 432x288 with 1 Axes>"
      ]
     },
     "metadata": {
      "needs_background": "light"
     },
     "output_type": "display_data"
    }
   ],
   "source": [
    "plt.plot(df['Mes'], df['data science'], 'r-')\n",
    "plt.plot(df['Mes'], df['data science']*2,'bs')\n",
    "plt.plot(df['Mes'], df['data science']*3,'g^')"
   ]
  },
  {
   "cell_type": "code",
   "execution_count": 22,
   "id": "e5709418",
   "metadata": {},
   "outputs": [
    {
     "data": {
      "text/plain": [
       "<matplotlib.collections.PathCollection at 0x1b5c4492830>"
      ]
     },
     "execution_count": 22,
     "metadata": {},
     "output_type": "execute_result"
    },
    {
     "data": {
      "image/png": "[encoded data removed]",
      "text/plain": [
       "<Figure size 432x288 with 1 Axes>"
      ]
     },
     "metadata": {
      "needs_background": "light"
     },
     "output_type": "display_data"
    }
   ],
   "source": [
    "plt.scatter(df['machine learning'], df['deep learning'])"
   ]
  },
  {
   "cell_type": "code",
   "execution_count": 23,
   "id": "61a6a2d8",
   "metadata": {},
   "outputs": [
    {
     "data": {
      "text/plain": [
       "<BarContainer object of 194 artists>"
      ]
     },
     "execution_count": 23,
     "metadata": {},
     "output_type": "execute_result"
    },
    {
     "data": {
      "image/png": "[encoded data removed]",
      "text/plain": [
       "<Figure size 432x288 with 1 Axes>"
      ]
     },
     "metadata": {
      "needs_background": "light"
     },
     "output_type": "display_data"
    }
   ],
   "source": [
    "plt.bar(df['Mes'], df['machine learning'], width=50)"
   ]
  },
  {
   "cell_type": "code",
   "execution_count": 15,
   "id": "d88f6bef",
   "metadata": {},
   "outputs": [
    {
     "data": {
      "text/plain": [
       "Text(2006-01-01 00:00:00, 50, 'Notice something?')"
      ]
     },
     "execution_count": 15,
     "metadata": {},
     "output_type": "execute_result"
    },
    {
     "ename": "ConversionError",
     "evalue": "Failed to convert value(s) to axis units: Timestamp('2010-01-01 00:00:00')",
     "output_type": "error",
     "traceback": [
      "\u001b[1;31m---------------------------------------------------------------------------\u001b[0m",
      "\u001b[1;31mTypeError\u001b[0m                                 Traceback (most recent call last)",
      "File \u001b[1;32m~\\anaconda3\\envs\\hamoye\\lib\\site-packages\\matplotlib\\axis.py:1506\u001b[0m, in \u001b[0;36mAxis.convert_units\u001b[1;34m(self, x)\u001b[0m\n\u001b[0;32m   1505\u001b[0m \u001b[38;5;28;01mtry\u001b[39;00m:\n\u001b[1;32m-> 1506\u001b[0m     ret \u001b[38;5;241m=\u001b[39m \u001b[38;5;28;43mself\u001b[39;49m\u001b[38;5;241;43m.\u001b[39;49m\u001b[43mconverter\u001b[49m\u001b[38;5;241;43m.\u001b[39;49m\u001b[43mconvert\u001b[49m\u001b[43m(\u001b[49m\u001b[43mx\u001b[49m\u001b[43m,\u001b[49m\u001b[43m \u001b[49m\u001b[38;5;28;43mself\u001b[39;49m\u001b[38;5;241;43m.\u001b[39;49m\u001b[43munits\u001b[49m\u001b[43m,\u001b[49m\u001b[43m \u001b[49m\u001b[38;5;28;43mself\u001b[39;49m\u001b[43m)\u001b[49m\n\u001b[0;32m   1507\u001b[0m \u001b[38;5;28;01mexcept\u001b[39;00m \u001b[38;5;167;01mException\u001b[39;00m \u001b[38;5;28;01mas\u001b[39;00m e:\n",
      "File \u001b[1;32m~\\anaconda3\\envs\\hamoye\\lib\\site-packages\\matplotlib\\category.py:68\u001b[0m, in \u001b[0;36mStrCategoryConverter.convert\u001b[1;34m(value, unit, axis)\u001b[0m\n\u001b[0;32m     67\u001b[0m \u001b[38;5;66;03m# force an update so it also does type checking\u001b[39;00m\n\u001b[1;32m---> 68\u001b[0m \u001b[43munit\u001b[49m\u001b[38;5;241;43m.\u001b[39;49m\u001b[43mupdate\u001b[49m\u001b[43m(\u001b[49m\u001b[43mvalues\u001b[49m\u001b[43m)\u001b[49m\n\u001b[0;32m     69\u001b[0m \u001b[38;5;28;01mreturn\u001b[39;00m np\u001b[38;5;241m.\u001b[39mvectorize(unit\u001b[38;5;241m.\u001b[39m_mapping\u001b[38;5;241m.\u001b[39m\u001b[38;5;21m__getitem__\u001b[39m, otypes\u001b[38;5;241m=\u001b[39m[\u001b[38;5;28mfloat\u001b[39m])(values)\n",
      "File \u001b[1;32m~\\anaconda3\\envs\\hamoye\\lib\\site-packages\\matplotlib\\category.py:227\u001b[0m, in \u001b[0;36mUnitData.update\u001b[1;34m(self, data)\u001b[0m\n\u001b[0;32m    225\u001b[0m \u001b[38;5;28;01mfor\u001b[39;00m val \u001b[38;5;129;01min\u001b[39;00m OrderedDict\u001b[38;5;241m.\u001b[39mfromkeys(data):\n\u001b[0;32m    226\u001b[0m     \u001b[38;5;66;03m# OrderedDict just iterates over unique values in data.\u001b[39;00m\n\u001b[1;32m--> 227\u001b[0m     \u001b[43m_api\u001b[49m\u001b[38;5;241;43m.\u001b[39;49m\u001b[43mcheck_isinstance\u001b[49m\u001b[43m(\u001b[49m\u001b[43m(\u001b[49m\u001b[38;5;28;43mstr\u001b[39;49m\u001b[43m,\u001b[49m\u001b[43m \u001b[49m\u001b[38;5;28;43mbytes\u001b[39;49m\u001b[43m)\u001b[49m\u001b[43m,\u001b[49m\u001b[43m \u001b[49m\u001b[43mvalue\u001b[49m\u001b[38;5;241;43m=\u001b[39;49m\u001b[43mval\u001b[49m\u001b[43m)\u001b[49m\n\u001b[0;32m    228\u001b[0m     \u001b[38;5;28;01mif\u001b[39;00m convertible:\n\u001b[0;32m    229\u001b[0m         \u001b[38;5;66;03m# this will only be called so long as convertible is True.\u001b[39;00m\n",
      "File \u001b[1;32m~\\anaconda3\\envs\\hamoye\\lib\\site-packages\\matplotlib\\_api\\__init__.py:93\u001b[0m, in \u001b[0;36mcheck_isinstance\u001b[1;34m(_types, **kwargs)\u001b[0m\n\u001b[0;32m     92\u001b[0m     names\u001b[38;5;241m.\u001b[39mappend(\u001b[38;5;124m\"\u001b[39m\u001b[38;5;124mNone\u001b[39m\u001b[38;5;124m\"\u001b[39m)\n\u001b[1;32m---> 93\u001b[0m \u001b[38;5;28;01mraise\u001b[39;00m \u001b[38;5;167;01mTypeError\u001b[39;00m(\n\u001b[0;32m     94\u001b[0m     \u001b[38;5;124m\"\u001b[39m\u001b[38;5;132;01m{!r}\u001b[39;00m\u001b[38;5;124m must be an instance of \u001b[39m\u001b[38;5;132;01m{}\u001b[39;00m\u001b[38;5;124m, not a \u001b[39m\u001b[38;5;132;01m{}\u001b[39;00m\u001b[38;5;124m\"\u001b[39m\u001b[38;5;241m.\u001b[39mformat(\n\u001b[0;32m     95\u001b[0m         k,\n\u001b[0;32m     96\u001b[0m         \u001b[38;5;124m\"\u001b[39m\u001b[38;5;124m, \u001b[39m\u001b[38;5;124m\"\u001b[39m\u001b[38;5;241m.\u001b[39mjoin(names[:\u001b[38;5;241m-\u001b[39m\u001b[38;5;241m1\u001b[39m]) \u001b[38;5;241m+\u001b[39m \u001b[38;5;124m\"\u001b[39m\u001b[38;5;124m or \u001b[39m\u001b[38;5;124m\"\u001b[39m \u001b[38;5;241m+\u001b[39m names[\u001b[38;5;241m-\u001b[39m\u001b[38;5;241m1\u001b[39m]\n\u001b[0;32m     97\u001b[0m         \u001b[38;5;28;01mif\u001b[39;00m \u001b[38;5;28mlen\u001b[39m(names) \u001b[38;5;241m>\u001b[39m \u001b[38;5;241m1\u001b[39m \u001b[38;5;28;01melse\u001b[39;00m names[\u001b[38;5;241m0\u001b[39m],\n\u001b[0;32m     98\u001b[0m         type_name(\u001b[38;5;28mtype\u001b[39m(v))))\n",
      "\u001b[1;31mTypeError\u001b[0m: 'value' must be an instance of str or bytes, not a pandas._libs.tslibs.timestamps.Timestamp",
      "\nThe above exception was the direct cause of the following exception:\n",
      "\u001b[1;31mConversionError\u001b[0m                           Traceback (most recent call last)",
      "File \u001b[1;32m~\\anaconda3\\envs\\hamoye\\lib\\site-packages\\IPython\\core\\formatters.py:339\u001b[0m, in \u001b[0;36mBaseFormatter.__call__\u001b[1;34m(self, obj)\u001b[0m\n\u001b[0;32m    337\u001b[0m     \u001b[38;5;28;01mpass\u001b[39;00m\n\u001b[0;32m    338\u001b[0m \u001b[38;5;28;01melse\u001b[39;00m:\n\u001b[1;32m--> 339\u001b[0m     \u001b[38;5;28;01mreturn\u001b[39;00m \u001b[43mprinter\u001b[49m\u001b[43m(\u001b[49m\u001b[43mobj\u001b[49m\u001b[43m)\u001b[49m\n\u001b[0;32m    340\u001b[0m \u001b[38;5;66;03m# Finally look for special method names\u001b[39;00m\n\u001b[0;32m    341\u001b[0m method \u001b[38;5;241m=\u001b[39m get_real_method(obj, \u001b[38;5;28mself\u001b[39m\u001b[38;5;241m.\u001b[39mprint_method)\n",
      "File \u001b[1;32m~\\anaconda3\\envs\\hamoye\\lib\\site-packages\\IPython\\core\\pylabtools.py:151\u001b[0m, in \u001b[0;36mprint_figure\u001b[1;34m(fig, fmt, bbox_inches, base64, **kwargs)\u001b[0m\n\u001b[0;32m    148\u001b[0m     \u001b[38;5;28;01mfrom\u001b[39;00m \u001b[38;5;21;01mmatplotlib\u001b[39;00m\u001b[38;5;21;01m.\u001b[39;00m\u001b[38;5;21;01mbackend_bases\u001b[39;00m \u001b[38;5;28;01mimport\u001b[39;00m FigureCanvasBase\n\u001b[0;32m    149\u001b[0m     FigureCanvasBase(fig)\n\u001b[1;32m--> 151\u001b[0m fig\u001b[38;5;241m.\u001b[39mcanvas\u001b[38;5;241m.\u001b[39mprint_figure(bytes_io, \u001b[38;5;241m*\u001b[39m\u001b[38;5;241m*\u001b[39mkw)\n\u001b[0;32m    152\u001b[0m data \u001b[38;5;241m=\u001b[39m bytes_io\u001b[38;5;241m.\u001b[39mgetvalue()\n\u001b[0;32m    153\u001b[0m \u001b[38;5;28;01mif\u001b[39;00m fmt \u001b[38;5;241m==\u001b[39m \u001b[38;5;124m'\u001b[39m\u001b[38;5;124msvg\u001b[39m\u001b[38;5;124m'\u001b[39m:\n",
      "File \u001b[1;32m~\\anaconda3\\envs\\hamoye\\lib\\site-packages\\matplotlib\\backend_bases.py:2295\u001b[0m, in \u001b[0;36mFigureCanvasBase.print_figure\u001b[1;34m(self, filename, dpi, facecolor, edgecolor, orientation, format, bbox_inches, pad_inches, bbox_extra_artists, backend, **kwargs)\u001b[0m\n\u001b[0;32m   2289\u001b[0m     renderer \u001b[38;5;241m=\u001b[39m _get_renderer(\n\u001b[0;32m   2290\u001b[0m         \u001b[38;5;28mself\u001b[39m\u001b[38;5;241m.\u001b[39mfigure,\n\u001b[0;32m   2291\u001b[0m         functools\u001b[38;5;241m.\u001b[39mpartial(\n\u001b[0;32m   2292\u001b[0m             print_method, orientation\u001b[38;5;241m=\u001b[39morientation)\n\u001b[0;32m   2293\u001b[0m     )\n\u001b[0;32m   2294\u001b[0m     \u001b[38;5;28;01mwith\u001b[39;00m \u001b[38;5;28mgetattr\u001b[39m(renderer, \u001b[38;5;124m\"\u001b[39m\u001b[38;5;124m_draw_disabled\u001b[39m\u001b[38;5;124m\"\u001b[39m, nullcontext)():\n\u001b[1;32m-> 2295\u001b[0m         \u001b[38;5;28;43mself\u001b[39;49m\u001b[38;5;241;43m.\u001b[39;49m\u001b[43mfigure\u001b[49m\u001b[38;5;241;43m.\u001b[39;49m\u001b[43mdraw\u001b[49m\u001b[43m(\u001b[49m\u001b[43mrenderer\u001b[49m\u001b[43m)\u001b[49m\n\u001b[0;32m   2297\u001b[0m \u001b[38;5;28;01mif\u001b[39;00m bbox_inches:\n\u001b[0;32m   2298\u001b[0m     \u001b[38;5;28;01mif\u001b[39;00m bbox_inches \u001b[38;5;241m==\u001b[39m \u001b[38;5;124m\"\u001b[39m\u001b[38;5;124mtight\u001b[39m\u001b[38;5;124m\"\u001b[39m:\n",
      "File \u001b[1;32m~\\anaconda3\\envs\\hamoye\\lib\\site-packages\\matplotlib\\artist.py:73\u001b[0m, in \u001b[0;36m_finalize_rasterization.<locals>.draw_wrapper\u001b[1;34m(artist, renderer, *args, **kwargs)\u001b[0m\n\u001b[0;32m     71\u001b[0m \u001b[38;5;129m@wraps\u001b[39m(draw)\n\u001b[0;32m     72\u001b[0m \u001b[38;5;28;01mdef\u001b[39;00m \u001b[38;5;21mdraw_wrapper\u001b[39m(artist, renderer, \u001b[38;5;241m*\u001b[39margs, \u001b[38;5;241m*\u001b[39m\u001b[38;5;241m*\u001b[39mkwargs):\n\u001b[1;32m---> 73\u001b[0m     result \u001b[38;5;241m=\u001b[39m draw(artist, renderer, \u001b[38;5;241m*\u001b[39margs, \u001b[38;5;241m*\u001b[39m\u001b[38;5;241m*\u001b[39mkwargs)\n\u001b[0;32m     74\u001b[0m     \u001b[38;5;28;01mif\u001b[39;00m renderer\u001b[38;5;241m.\u001b[39m_rasterizing:\n\u001b[0;32m     75\u001b[0m         renderer\u001b[38;5;241m.\u001b[39mstop_rasterizing()\n",
      "File \u001b[1;32m~\\anaconda3\\envs\\hamoye\\lib\\site-packages\\matplotlib\\artist.py:50\u001b[0m, in \u001b[0;36mallow_rasterization.<locals>.draw_wrapper\u001b[1;34m(artist, renderer)\u001b[0m\n\u001b[0;32m     47\u001b[0m     \u001b[38;5;28;01mif\u001b[39;00m artist\u001b[38;5;241m.\u001b[39mget_agg_filter() \u001b[38;5;129;01mis\u001b[39;00m \u001b[38;5;129;01mnot\u001b[39;00m \u001b[38;5;28;01mNone\u001b[39;00m:\n\u001b[0;32m     48\u001b[0m         renderer\u001b[38;5;241m.\u001b[39mstart_filter()\n\u001b[1;32m---> 50\u001b[0m     \u001b[38;5;28;01mreturn\u001b[39;00m \u001b[43mdraw\u001b[49m\u001b[43m(\u001b[49m\u001b[43martist\u001b[49m\u001b[43m,\u001b[49m\u001b[43m \u001b[49m\u001b[43mrenderer\u001b[49m\u001b[43m)\u001b[49m\n\u001b[0;32m     51\u001b[0m \u001b[38;5;28;01mfinally\u001b[39;00m:\n\u001b[0;32m     52\u001b[0m     \u001b[38;5;28;01mif\u001b[39;00m artist\u001b[38;5;241m.\u001b[39mget_agg_filter() \u001b[38;5;129;01mis\u001b[39;00m \u001b[38;5;129;01mnot\u001b[39;00m \u001b[38;5;28;01mNone\u001b[39;00m:\n",
      "File \u001b[1;32m~\\anaconda3\\envs\\hamoye\\lib\\site-packages\\matplotlib\\figure.py:2810\u001b[0m, in \u001b[0;36mFigure.draw\u001b[1;34m(self, renderer)\u001b[0m\n\u001b[0;32m   2807\u001b[0m         \u001b[38;5;66;03m# ValueError can occur when resizing a window.\u001b[39;00m\n\u001b[0;32m   2809\u001b[0m \u001b[38;5;28mself\u001b[39m\u001b[38;5;241m.\u001b[39mpatch\u001b[38;5;241m.\u001b[39mdraw(renderer)\n\u001b[1;32m-> 2810\u001b[0m \u001b[43mmimage\u001b[49m\u001b[38;5;241;43m.\u001b[39;49m\u001b[43m_draw_list_compositing_images\u001b[49m\u001b[43m(\u001b[49m\n\u001b[0;32m   2811\u001b[0m \u001b[43m    \u001b[49m\u001b[43mrenderer\u001b[49m\u001b[43m,\u001b[49m\u001b[43m \u001b[49m\u001b[38;5;28;43mself\u001b[39;49m\u001b[43m,\u001b[49m\u001b[43m \u001b[49m\u001b[43martists\u001b[49m\u001b[43m,\u001b[49m\u001b[43m \u001b[49m\u001b[38;5;28;43mself\u001b[39;49m\u001b[38;5;241;43m.\u001b[39;49m\u001b[43msuppressComposite\u001b[49m\u001b[43m)\u001b[49m\n\u001b[0;32m   2813\u001b[0m \u001b[38;5;28;01mfor\u001b[39;00m sfig \u001b[38;5;129;01min\u001b[39;00m \u001b[38;5;28mself\u001b[39m\u001b[38;5;241m.\u001b[39msubfigs:\n\u001b[0;32m   2814\u001b[0m     sfig\u001b[38;5;241m.\u001b[39mdraw(renderer)\n",
      "File \u001b[1;32m~\\anaconda3\\envs\\hamoye\\lib\\site-packages\\matplotlib\\image.py:132\u001b[0m, in \u001b[0;36m_draw_list_compositing_images\u001b[1;34m(renderer, parent, artists, suppress_composite)\u001b[0m\n\u001b[0;32m    130\u001b[0m \u001b[38;5;28;01mif\u001b[39;00m not_composite \u001b[38;5;129;01mor\u001b[39;00m \u001b[38;5;129;01mnot\u001b[39;00m has_images:\n\u001b[0;32m    131\u001b[0m     \u001b[38;5;28;01mfor\u001b[39;00m a \u001b[38;5;129;01min\u001b[39;00m artists:\n\u001b[1;32m--> 132\u001b[0m         \u001b[43ma\u001b[49m\u001b[38;5;241;43m.\u001b[39;49m\u001b[43mdraw\u001b[49m\u001b[43m(\u001b[49m\u001b[43mrenderer\u001b[49m\u001b[43m)\u001b[49m\n\u001b[0;32m    133\u001b[0m \u001b[38;5;28;01melse\u001b[39;00m:\n\u001b[0;32m    134\u001b[0m     \u001b[38;5;66;03m# Composite any adjacent images together\u001b[39;00m\n\u001b[0;32m    135\u001b[0m     image_group \u001b[38;5;241m=\u001b[39m []\n",
      "File \u001b[1;32m~\\anaconda3\\envs\\hamoye\\lib\\site-packages\\matplotlib\\artist.py:50\u001b[0m, in \u001b[0;36mallow_rasterization.<locals>.draw_wrapper\u001b[1;34m(artist, renderer)\u001b[0m\n\u001b[0;32m     47\u001b[0m     \u001b[38;5;28;01mif\u001b[39;00m artist\u001b[38;5;241m.\u001b[39mget_agg_filter() \u001b[38;5;129;01mis\u001b[39;00m \u001b[38;5;129;01mnot\u001b[39;00m \u001b[38;5;28;01mNone\u001b[39;00m:\n\u001b[0;32m     48\u001b[0m         renderer\u001b[38;5;241m.\u001b[39mstart_filter()\n\u001b[1;32m---> 50\u001b[0m     \u001b[38;5;28;01mreturn\u001b[39;00m \u001b[43mdraw\u001b[49m\u001b[43m(\u001b[49m\u001b[43martist\u001b[49m\u001b[43m,\u001b[49m\u001b[43m \u001b[49m\u001b[43mrenderer\u001b[49m\u001b[43m)\u001b[49m\n\u001b[0;32m     51\u001b[0m \u001b[38;5;28;01mfinally\u001b[39;00m:\n\u001b[0;32m     52\u001b[0m     \u001b[38;5;28;01mif\u001b[39;00m artist\u001b[38;5;241m.\u001b[39mget_agg_filter() \u001b[38;5;129;01mis\u001b[39;00m \u001b[38;5;129;01mnot\u001b[39;00m \u001b[38;5;28;01mNone\u001b[39;00m:\n",
      "File \u001b[1;32m~\\anaconda3\\envs\\hamoye\\lib\\site-packages\\matplotlib\\axes\\_base.py:3082\u001b[0m, in \u001b[0;36m_AxesBase.draw\u001b[1;34m(self, renderer)\u001b[0m\n\u001b[0;32m   3079\u001b[0m         a\u001b[38;5;241m.\u001b[39mdraw(renderer)\n\u001b[0;32m   3080\u001b[0m     renderer\u001b[38;5;241m.\u001b[39mstop_rasterizing()\n\u001b[1;32m-> 3082\u001b[0m \u001b[43mmimage\u001b[49m\u001b[38;5;241;43m.\u001b[39;49m\u001b[43m_draw_list_compositing_images\u001b[49m\u001b[43m(\u001b[49m\n\u001b[0;32m   3083\u001b[0m \u001b[43m    \u001b[49m\u001b[43mrenderer\u001b[49m\u001b[43m,\u001b[49m\u001b[43m \u001b[49m\u001b[38;5;28;43mself\u001b[39;49m\u001b[43m,\u001b[49m\u001b[43m \u001b[49m\u001b[43martists\u001b[49m\u001b[43m,\u001b[49m\u001b[43m \u001b[49m\u001b[38;5;28;43mself\u001b[39;49m\u001b[38;5;241;43m.\u001b[39;49m\u001b[43mfigure\u001b[49m\u001b[38;5;241;43m.\u001b[39;49m\u001b[43msuppressComposite\u001b[49m\u001b[43m)\u001b[49m\n\u001b[0;32m   3085\u001b[0m renderer\u001b[38;5;241m.\u001b[39mclose_group(\u001b[38;5;124m'\u001b[39m\u001b[38;5;124maxes\u001b[39m\u001b[38;5;124m'\u001b[39m)\n\u001b[0;32m   3086\u001b[0m \u001b[38;5;28mself\u001b[39m\u001b[38;5;241m.\u001b[39mstale \u001b[38;5;241m=\u001b[39m \u001b[38;5;28;01mFalse\u001b[39;00m\n",
      "File \u001b[1;32m~\\anaconda3\\envs\\hamoye\\lib\\site-packages\\matplotlib\\image.py:132\u001b[0m, in \u001b[0;36m_draw_list_compositing_images\u001b[1;34m(renderer, parent, artists, suppress_composite)\u001b[0m\n\u001b[0;32m    130\u001b[0m \u001b[38;5;28;01mif\u001b[39;00m not_composite \u001b[38;5;129;01mor\u001b[39;00m \u001b[38;5;129;01mnot\u001b[39;00m has_images:\n\u001b[0;32m    131\u001b[0m     \u001b[38;5;28;01mfor\u001b[39;00m a \u001b[38;5;129;01min\u001b[39;00m artists:\n\u001b[1;32m--> 132\u001b[0m         \u001b[43ma\u001b[49m\u001b[38;5;241;43m.\u001b[39;49m\u001b[43mdraw\u001b[49m\u001b[43m(\u001b[49m\u001b[43mrenderer\u001b[49m\u001b[43m)\u001b[49m\n\u001b[0;32m    133\u001b[0m \u001b[38;5;28;01melse\u001b[39;00m:\n\u001b[0;32m    134\u001b[0m     \u001b[38;5;66;03m# Composite any adjacent images together\u001b[39;00m\n\u001b[0;32m    135\u001b[0m     image_group \u001b[38;5;241m=\u001b[39m []\n",
      "File \u001b[1;32m~\\anaconda3\\envs\\hamoye\\lib\\site-packages\\matplotlib\\artist.py:50\u001b[0m, in \u001b[0;36mallow_rasterization.<locals>.draw_wrapper\u001b[1;34m(artist, renderer)\u001b[0m\n\u001b[0;32m     47\u001b[0m     \u001b[38;5;28;01mif\u001b[39;00m artist\u001b[38;5;241m.\u001b[39mget_agg_filter() \u001b[38;5;129;01mis\u001b[39;00m \u001b[38;5;129;01mnot\u001b[39;00m \u001b[38;5;28;01mNone\u001b[39;00m:\n\u001b[0;32m     48\u001b[0m         renderer\u001b[38;5;241m.\u001b[39mstart_filter()\n\u001b[1;32m---> 50\u001b[0m     \u001b[38;5;28;01mreturn\u001b[39;00m \u001b[43mdraw\u001b[49m\u001b[43m(\u001b[49m\u001b[43martist\u001b[49m\u001b[43m,\u001b[49m\u001b[43m \u001b[49m\u001b[43mrenderer\u001b[49m\u001b[43m)\u001b[49m\n\u001b[0;32m     51\u001b[0m \u001b[38;5;28;01mfinally\u001b[39;00m:\n\u001b[0;32m     52\u001b[0m     \u001b[38;5;28;01mif\u001b[39;00m artist\u001b[38;5;241m.\u001b[39mget_agg_filter() \u001b[38;5;129;01mis\u001b[39;00m \u001b[38;5;129;01mnot\u001b[39;00m \u001b[38;5;28;01mNone\u001b[39;00m:\n",
      "File \u001b[1;32m~\\anaconda3\\envs\\hamoye\\lib\\site-packages\\matplotlib\\text.py:685\u001b[0m, in \u001b[0;36mText.draw\u001b[1;34m(self, renderer)\u001b[0m\n\u001b[0;32m    682\u001b[0m renderer\u001b[38;5;241m.\u001b[39mopen_group(\u001b[38;5;124m'\u001b[39m\u001b[38;5;124mtext\u001b[39m\u001b[38;5;124m'\u001b[39m, \u001b[38;5;28mself\u001b[39m\u001b[38;5;241m.\u001b[39mget_gid())\n\u001b[0;32m    684\u001b[0m \u001b[38;5;28;01mwith\u001b[39;00m \u001b[38;5;28mself\u001b[39m\u001b[38;5;241m.\u001b[39m_cm_set(text\u001b[38;5;241m=\u001b[39m\u001b[38;5;28mself\u001b[39m\u001b[38;5;241m.\u001b[39m_get_wrapped_text()):\n\u001b[1;32m--> 685\u001b[0m     bbox, info, descent \u001b[38;5;241m=\u001b[39m \u001b[38;5;28;43mself\u001b[39;49m\u001b[38;5;241;43m.\u001b[39;49m\u001b[43m_get_layout\u001b[49m\u001b[43m(\u001b[49m\u001b[43mrenderer\u001b[49m\u001b[43m)\u001b[49m\n\u001b[0;32m    686\u001b[0m     trans \u001b[38;5;241m=\u001b[39m \u001b[38;5;28mself\u001b[39m\u001b[38;5;241m.\u001b[39mget_transform()\n\u001b[0;32m    688\u001b[0m     \u001b[38;5;66;03m# don't use self.get_position here, which refers to text\u001b[39;00m\n\u001b[0;32m    689\u001b[0m     \u001b[38;5;66;03m# position in Text:\u001b[39;00m\n",
      "File \u001b[1;32m~\\anaconda3\\envs\\hamoye\\lib\\site-packages\\matplotlib\\text.py:296\u001b[0m, in \u001b[0;36mText._get_layout\u001b[1;34m(self, renderer)\u001b[0m\n\u001b[0;32m    290\u001b[0m \u001b[38;5;28;01mdef\u001b[39;00m \u001b[38;5;21m_get_layout\u001b[39m(\u001b[38;5;28mself\u001b[39m, renderer):\n\u001b[0;32m    291\u001b[0m     \u001b[38;5;124;03m\"\"\"\u001b[39;00m\n\u001b[0;32m    292\u001b[0m \u001b[38;5;124;03m    Return the extent (bbox) of the text together with\u001b[39;00m\n\u001b[0;32m    293\u001b[0m \u001b[38;5;124;03m    multiple-alignment information. Note that it returns an extent\u001b[39;00m\n\u001b[0;32m    294\u001b[0m \u001b[38;5;124;03m    of a rotated text when necessary.\u001b[39;00m\n\u001b[0;32m    295\u001b[0m \u001b[38;5;124;03m    \"\"\"\u001b[39;00m\n\u001b[1;32m--> 296\u001b[0m     key \u001b[38;5;241m=\u001b[39m \u001b[38;5;28;43mself\u001b[39;49m\u001b[38;5;241;43m.\u001b[39;49m\u001b[43m_get_layout_cache_key\u001b[49m\u001b[43m(\u001b[49m\u001b[43mrenderer\u001b[49m\u001b[38;5;241;43m=\u001b[39;49m\u001b[43mrenderer\u001b[49m\u001b[43m)\u001b[49m\n\u001b[0;32m    297\u001b[0m     \u001b[38;5;28;01mif\u001b[39;00m key \u001b[38;5;129;01min\u001b[39;00m \u001b[38;5;28mself\u001b[39m\u001b[38;5;241m.\u001b[39m_cached:\n\u001b[0;32m    298\u001b[0m         \u001b[38;5;28;01mreturn\u001b[39;00m \u001b[38;5;28mself\u001b[39m\u001b[38;5;241m.\u001b[39m_cached[key]\n",
      "File \u001b[1;32m~\\anaconda3\\envs\\hamoye\\lib\\site-packages\\matplotlib\\text.py:280\u001b[0m, in \u001b[0;36mText._get_layout_cache_key\u001b[1;34m(self, renderer)\u001b[0m\n\u001b[0;32m    275\u001b[0m \u001b[38;5;28;01mdef\u001b[39;00m \u001b[38;5;21m_get_layout_cache_key\u001b[39m(\u001b[38;5;28mself\u001b[39m, renderer\u001b[38;5;241m=\u001b[39m\u001b[38;5;28;01mNone\u001b[39;00m):\n\u001b[0;32m    276\u001b[0m     \u001b[38;5;124;03m\"\"\"\u001b[39;00m\n\u001b[0;32m    277\u001b[0m \u001b[38;5;124;03m    Return a hashable tuple of properties that lets `_get_layout` know\u001b[39;00m\n\u001b[0;32m    278\u001b[0m \u001b[38;5;124;03m    whether a previously computed layout can be reused.\u001b[39;00m\n\u001b[0;32m    279\u001b[0m \u001b[38;5;124;03m    \"\"\"\u001b[39;00m\n\u001b[1;32m--> 280\u001b[0m     x, y \u001b[38;5;241m=\u001b[39m \u001b[38;5;28;43mself\u001b[39;49m\u001b[38;5;241;43m.\u001b[39;49m\u001b[43mget_unitless_position\u001b[49m\u001b[43m(\u001b[49m\u001b[43m)\u001b[49m\n\u001b[0;32m    281\u001b[0m     renderer \u001b[38;5;241m=\u001b[39m renderer \u001b[38;5;129;01mor\u001b[39;00m \u001b[38;5;28mself\u001b[39m\u001b[38;5;241m.\u001b[39m_renderer\n\u001b[0;32m    282\u001b[0m     \u001b[38;5;28;01mreturn\u001b[39;00m (\n\u001b[0;32m    283\u001b[0m         x, y, \u001b[38;5;28mself\u001b[39m\u001b[38;5;241m.\u001b[39mget_text(), \u001b[38;5;28mhash\u001b[39m(\u001b[38;5;28mself\u001b[39m\u001b[38;5;241m.\u001b[39m_fontproperties),\n\u001b[0;32m    284\u001b[0m         \u001b[38;5;28mself\u001b[39m\u001b[38;5;241m.\u001b[39m_verticalalignment, \u001b[38;5;28mself\u001b[39m\u001b[38;5;241m.\u001b[39m_horizontalalignment,\n\u001b[1;32m   (...)\u001b[0m\n\u001b[0;32m    287\u001b[0m         \u001b[38;5;28mself\u001b[39m\u001b[38;5;241m.\u001b[39mfigure\u001b[38;5;241m.\u001b[39mdpi, weakref\u001b[38;5;241m.\u001b[39mref(renderer),\n\u001b[0;32m    288\u001b[0m     )\n",
      "File \u001b[1;32m~\\anaconda3\\envs\\hamoye\\lib\\site-packages\\matplotlib\\text.py:830\u001b[0m, in \u001b[0;36mText.get_unitless_position\u001b[1;34m(self)\u001b[0m\n\u001b[0;32m    827\u001b[0m \u001b[38;5;124;03m\"\"\"Return the (x, y) unitless position of the text.\"\"\"\u001b[39;00m\n\u001b[0;32m    828\u001b[0m \u001b[38;5;66;03m# This will get the position with all unit information stripped away.\u001b[39;00m\n\u001b[0;32m    829\u001b[0m \u001b[38;5;66;03m# This is here for convenience since it is done in several locations.\u001b[39;00m\n\u001b[1;32m--> 830\u001b[0m x \u001b[38;5;241m=\u001b[39m \u001b[38;5;28mfloat\u001b[39m(\u001b[38;5;28;43mself\u001b[39;49m\u001b[38;5;241;43m.\u001b[39;49m\u001b[43mconvert_xunits\u001b[49m\u001b[43m(\u001b[49m\u001b[38;5;28;43mself\u001b[39;49m\u001b[38;5;241;43m.\u001b[39;49m\u001b[43m_x\u001b[49m\u001b[43m)\u001b[49m)\n\u001b[0;32m    831\u001b[0m y \u001b[38;5;241m=\u001b[39m \u001b[38;5;28mfloat\u001b[39m(\u001b[38;5;28mself\u001b[39m\u001b[38;5;241m.\u001b[39mconvert_yunits(\u001b[38;5;28mself\u001b[39m\u001b[38;5;241m.\u001b[39m_y))\n\u001b[0;32m    832\u001b[0m \u001b[38;5;28;01mreturn\u001b[39;00m x, y\n",
      "File \u001b[1;32m~\\anaconda3\\envs\\hamoye\\lib\\site-packages\\matplotlib\\artist.py:252\u001b[0m, in \u001b[0;36mArtist.convert_xunits\u001b[1;34m(self, x)\u001b[0m\n\u001b[0;32m    250\u001b[0m \u001b[38;5;28;01mif\u001b[39;00m ax \u001b[38;5;129;01mis\u001b[39;00m \u001b[38;5;28;01mNone\u001b[39;00m \u001b[38;5;129;01mor\u001b[39;00m ax\u001b[38;5;241m.\u001b[39mxaxis \u001b[38;5;129;01mis\u001b[39;00m \u001b[38;5;28;01mNone\u001b[39;00m:\n\u001b[0;32m    251\u001b[0m     \u001b[38;5;28;01mreturn\u001b[39;00m x\n\u001b[1;32m--> 252\u001b[0m \u001b[38;5;28;01mreturn\u001b[39;00m \u001b[43max\u001b[49m\u001b[38;5;241;43m.\u001b[39;49m\u001b[43mxaxis\u001b[49m\u001b[38;5;241;43m.\u001b[39;49m\u001b[43mconvert_units\u001b[49m\u001b[43m(\u001b[49m\u001b[43mx\u001b[49m\u001b[43m)\u001b[49m\n",
      "File \u001b[1;32m~\\anaconda3\\envs\\hamoye\\lib\\site-packages\\matplotlib\\axis.py:1508\u001b[0m, in \u001b[0;36mAxis.convert_units\u001b[1;34m(self, x)\u001b[0m\n\u001b[0;32m   1506\u001b[0m     ret \u001b[38;5;241m=\u001b[39m \u001b[38;5;28mself\u001b[39m\u001b[38;5;241m.\u001b[39mconverter\u001b[38;5;241m.\u001b[39mconvert(x, \u001b[38;5;28mself\u001b[39m\u001b[38;5;241m.\u001b[39munits, \u001b[38;5;28mself\u001b[39m)\n\u001b[0;32m   1507\u001b[0m \u001b[38;5;28;01mexcept\u001b[39;00m \u001b[38;5;167;01mException\u001b[39;00m \u001b[38;5;28;01mas\u001b[39;00m e:\n\u001b[1;32m-> 1508\u001b[0m     \u001b[38;5;28;01mraise\u001b[39;00m munits\u001b[38;5;241m.\u001b[39mConversionError(\u001b[38;5;124m'\u001b[39m\u001b[38;5;124mFailed to convert value(s) to axis \u001b[39m\u001b[38;5;124m'\u001b[39m\n\u001b[0;32m   1509\u001b[0m                                  \u001b[38;5;124mf\u001b[39m\u001b[38;5;124m'\u001b[39m\u001b[38;5;124munits: \u001b[39m\u001b[38;5;132;01m{\u001b[39;00mx\u001b[38;5;132;01m!r}\u001b[39;00m\u001b[38;5;124m'\u001b[39m) \u001b[38;5;28;01mfrom\u001b[39;00m \u001b[38;5;21;01me\u001b[39;00m\n\u001b[0;32m   1510\u001b[0m \u001b[38;5;28;01mreturn\u001b[39;00m ret\n",
      "\u001b[1;31mConversionError\u001b[0m: Failed to convert value(s) to axis units: Timestamp('2010-01-01 00:00:00')"
     ]
    },
    {
     "data": {
      "text/plain": [
       "<Figure size 432x288 with 1 Axes>"
      ]
     },
     "metadata": {
      "needs_background": "light"
     },
     "output_type": "display_data"
    }
   ],
   "source": [
    "plt.plot(df['Mes'], df['data science'], label='data science')\n",
    "plt.plot(df['Mes'], df['machine learning'], label='machine learning')\n",
    "plt.plot(df['Mes'], df['deep learning'], label='deep learning')\n",
    "plt.xlabel('Date')\n",
    "plt.ylabel('Popularity')\n",
    "plt.title('Popularity of Ai terms by date')\n",
    "plt.grid(True)\n",
    "plt.legend()\n",
    "plt.text(x=pd.to_datetime('2010-01-01'), y=80, s=r'$\\lambda=1, r^2=0.8$')\n",
    "plt.annotate('Notice something?', xy=(pd.to_datetime('2014-01-01'), 30), xytext=(pd.to_datetime('2006-01-01'), 50), \n",
    "             arrowprops={'facecolor':'red', 'shrink':0.5})"
   ]
  },
  {
   "cell_type": "code",
   "execution_count": 16,
   "id": "08a33919",
   "metadata": {},
   "outputs": [
    {
     "data": {
      "text/plain": [
       "Text(2006-01-01, 50, 'Notice something?')"
      ]
     },
     "execution_count": 16,
     "metadata": {},
     "output_type": "execute_result"
    },
    {
     "data": {
      "image/png": "[encoded data removed]",
      "text/plain": [
       "<Figure size 432x288 with 1 Axes>"
      ]
     },
     "metadata": {
      "needs_background": "light"
     },
     "output_type": "display_data"
    }
   ],
   "source": [
    "plt.plot(df['Mes'], df['data science'], label='data science')\n",
    "plt.plot(df['Mes'], df['machine learning'], label='machine learning')\n",
    "plt.plot(df['Mes'], df['deep learning'], label='deep learning')\n",
    "plt.xlabel('Date')\n",
    "plt.ylabel('Popularity')\n",
    "plt.title('Popularity of Ai terms by date')\n",
    "plt.grid(True)\n",
    "plt.legend()\n",
    "plt.text(x='2010-01-01', y=80, s=r'$\\lambda=1, r^2=0.8$')\n",
    "plt.annotate('Notice something?', xy=('2014-01-01',30), \n",
    "             xytext=('2006-01-01',50), \n",
    "             arrowprops={'facecolor':'red', 'shrink':0.5})"
   ]
  },
  {
   "cell_type": "code",
   "execution_count": 17,
   "id": "d2f160b9",
   "metadata": {},
   "outputs": [],
   "source": [
    "import seaborn as sns"
   ]
  },
  {
   "cell_type": "code",
   "execution_count": 18,
   "id": "e5132471",
   "metadata": {},
   "outputs": [
    {
     "name": "stderr",
     "output_type": "stream",
     "text": [
      "C:\\Users\\USER\\anaconda3\\envs\\hamoye\\lib\\site-packages\\seaborn\\_decorators.py:36: FutureWarning: Pass the following variables as keyword args: x, y. From version 0.12, the only valid positional argument will be `data`, and passing other arguments without an explicit keyword will result in an error or misinterpretation.\n",
      "  warnings.warn(\n"
     ]
    },
    {
     "data": {
      "text/plain": [
       "<AxesSubplot:xlabel='Mes', ylabel='data science'>"
      ]
     },
     "execution_count": 18,
     "metadata": {},
     "output_type": "execute_result"
    },
    {
     "data": {
      "image/png": "[encoded data removed]",
      "text/plain": [
       "<Figure size 432x288 with 1 Axes>"
      ]
     },
     "metadata": {},
     "output_type": "display_data"
    }
   ],
   "source": [
    "sns.set()\n",
    "sns.scatterplot(df['Mes'], df['data science'])"
   ]
  },
  {
   "cell_type": "code",
   "execution_count": 20,
   "id": "a5bdba6f",
   "metadata": {},
   "outputs": [
    {
     "data": {
      "text/plain": [
       "<seaborn.axisgrid.FacetGrid at 0x26dc5c77f10>"
      ]
     },
     "execution_count": 20,
     "metadata": {},
     "output_type": "execute_result"
    },
    {
     "data": {
      "image/png": "[encoded data removed]",
      "text/plain": [
       "<Figure size 828.725x360 with 2 Axes>"
      ]
     },
     "metadata": {},
     "output_type": "display_data"
    }
   ],
   "source": [
    "sns.relplot(x='Mes', y='deep learning', hue='data science', size='machine learning', col='categorical',\n",
    "          data=df)"
   ]
  },
  {
   "cell_type": "code",
   "execution_count": null,
   "id": "d6e0d919",
   "metadata": {},
   "outputs": [],
   "source": []
  }
 ],
 "metadata": {
  "kernelspec": {
   "display_name": "Python 3 (ipykernel)",
   "language": "python",
   "name": "python3"
  },
  "language_info": {
   "codemirror_mode": {
    "name": "ipython",
    "version": 3
   },
   "file_extension": ".py",
   "mimetype": "text/x-python",
   "name": "python",
   "nbconvert_exporter": "python",
   "pygments_lexer": "ipython3",
   "version": "3.10.4"
  }
 },
 "nbformat": 4,
 "nbformat_minor": 5
}
